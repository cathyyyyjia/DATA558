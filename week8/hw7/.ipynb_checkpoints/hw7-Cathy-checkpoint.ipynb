{
 "cells": [
  {
   "cell_type": "markdown",
   "metadata": {},
   "source": [
    "# <center> DATA 558 Homework 7 </center>\n",
    "<center> Cathy Jia </center>\n",
    "<center> Due May 31st, 2019 by 11:59pm </center>"
   ]
  },
  {
   "cell_type": "code",
   "execution_count": 1,
   "metadata": {},
   "outputs": [],
   "source": [
    "# Display all of the results.\n",
    "from IPython.core.interactiveshell import InteractiveShell\n",
    "InteractiveShell.ast_node_interactivity = \"all\"\n",
    "\n",
    "# Hide warnings\n",
    "import warnings\n",
    "warnings.filterwarnings('ignore')\n",
    "\n",
    "# import packages\n",
    "import numpy as np\n",
    "import pandas as pd\n",
    "import matplotlib.pyplot as plt\n",
    "from sklearn.datasets import load_digits\n",
    "from sklearn.model_selection import train_test_split\n",
    "from sklearn.preprocessing import StandardScaler\n",
    "from sklearn.linear_model import LogisticRegressionCV\n",
    "import sklearn.metrics\n",
    "from sklearn import multiclass\n",
    "from sklearn.svm import LinearSVC\n",
    "from itertools import combinations\n",
    "from scipy.stats import mode"
   ]
  },
  {
   "cell_type": "markdown",
   "metadata": {},
   "source": [
    "## Exercise 1\n",
    "\n",
    "**Study Lab #7 and do exercises therein.**\n",
    "\n",
    "## Exercise 2\n",
    "- **Compute the gradient $\\nabla F(\\alpha)$ of $F$.**"
   ]
  },
  {
   "cell_type": "markdown",
   "metadata": {},
   "source": [
    "The kernel support vector machine with the smoothed hinge loss writes as\n",
    "\n",
    "$$\\min_{\\alpha\\in\\mathbb{R}^n} F =  \\frac{1}{n}\\sum_{i=1}^n l_{hh}(y_i, (K\\alpha)_i) + \\lambda \\alpha^TK\\alpha$$\n",
    "\n",
    "where $(K\\alpha)_i$ is the $i$th entry in the vector $K\\alpha$,\n",
    "\n",
    "$$\n",
    "l_{hh}(y, t) =\n",
    "\\begin{cases}\n",
    "0 & \\text{if} & yt > 1+h  \\\\\n",
    "\\frac{(1+h-yt)^2}{4h} & \\text{if} & |1-yt| \\leq h \\\\\n",
    "1-yt & \\text{if} & yt < 1-h\n",
    "\\end{cases}\n",
    "$$\n",
    "\n",
    "and $h = 0.5.$\n",
    "\n",
    "Then we can apply chain rule and subdifferentiation to find the gradient of $F$.\n",
    "\n",
    "$$\n",
    "\\nabla F(\\alpha) = \\frac{1}{n} \\sum_{i=1}^n \\nabla l_{hh}(y_i, (K\\alpha)_i) + 2\\lambda K \\alpha\n",
    "$$\n",
    "\n",
    "where $(K\\alpha)_i$ is the $i$th entry in the vector $K\\alpha$,\n",
    "\n",
    "$$\n",
    "\\nabla l_{hh}(y, t) =\n",
    "\\begin{cases}\n",
    "0 & \\text{if} & yt > 1+h  \\\\\n",
    "-\\frac{yK(1+h-yt)}{2h} & \\text{if} & |1-yt| \\leq h \\\\\n",
    "-yK & \\text{if} & yt < 1-h\n",
    "\\end{cases}\n",
    "$$\n",
    "\n",
    "and $h = 0.5.$"
   ]
  },
  {
   "cell_type": "markdown",
   "metadata": {},
   "source": [
    "- **Write a function `computegram` that computes, for any set of datapoints $x_1$, . . . , $x_n$, the kernel matrix $K$.**"
   ]
  },
  {
   "cell_type": "code",
   "execution_count": 2,
   "metadata": {},
   "outputs": [],
   "source": [
    "def computegram(X, Y=None, sigma=0.5):\n",
    "    '''\n",
    "    Compute the kernel matrix\n",
    "    '''\n",
    "    if Y is None:\n",
    "        Y = X\n",
    "    K = (np.linalg.norm(X, axis=1)**2)[:, np.newaxis] + (np.linalg.norm(Y, axis=1)**2)[np.newaxis, :]\n",
    "    K -= 2*(X.dot(Y.T))\n",
    "    K = np.exp(-1/(2*sigma**2)*K)\n",
    "    return K"
   ]
  },
  {
   "cell_type": "markdown",
   "metadata": {},
   "source": [
    "- **Write a function `kerneleval` that computes, for any set of datapoints $x_1$, . . . , $x_n$ and a new datapoint $x^*$, the vector of kernel evaluations $[k(x_1, x^*), . . . , k(x_n, x^*)]^T.$**"
   ]
  },
  {
   "cell_type": "code",
   "execution_count": 3,
   "metadata": {},
   "outputs": [],
   "source": [
    "def kerneleval_poly(X, Y=None, b=1, p=1):\n",
    "    '''\n",
    "    Compute vector of kernel evaluations\n",
    "    '''\n",
    "    if Y is None:\n",
    "        Y = X\n",
    "    return (X.dot(Y.T)+b)**p\n",
    "\n",
    "def kerneleval_linear(X, Y=None):\n",
    "    if Y is None:\n",
    "        Y = X\n",
    "    return X.dot(Y.T)"
   ]
  },
  {
   "cell_type": "markdown",
   "metadata": {},
   "source": [
    "- **Consider the Digits dataset (http://scikit-learn.org/stable/modules/generated/sklearn.datasets.load_digits.html). Download and standardize the data, if you have not done so already.**"
   ]
  },
  {
   "cell_type": "code",
   "execution_count": 4,
   "metadata": {},
   "outputs": [
    {
     "name": "stdout",
     "output_type": "stream",
     "text": [
      "Unique class label: [0 1 2 3 4 5 6 7 8 9]\n",
      "Selected 2 classes: 0 and 1\n",
      "Training set: n = 270, d = 64\n",
      "Test set: n = 90, d = 64\n"
     ]
    }
   ],
   "source": [
    "# Load data set\n",
    "digits = load_digits()\n",
    "X = digits.data\n",
    "Y = digits.target\n",
    "\n",
    "# Subset data\n",
    "print('Unique class label:', np.unique(Y))\n",
    "class1 = 0\n",
    "class2 = 1\n",
    "print('Selected 2 classes: %d and %d' % (class1, class2))\n",
    "x = X\n",
    "y = Y\n",
    "idx = np.concatenate((np.where(Y==class1),np.where(Y==class2)), axis=1).reshape(-1)\n",
    "x = x[idx]\n",
    "y = y[idx]\n",
    "\n",
    "# Split train set and test set\n",
    "x_train, x_test, y_train, y_test = train_test_split(x, y, random_state=0)\n",
    "\n",
    "# Standardize data\n",
    "scalar  = StandardScaler().fit(x_train)\n",
    "x_train = scalar.transform(x_train)\n",
    "x_test  = scalar.transform(x_test)\n",
    "\n",
    "# Change label to +/- 1\n",
    "y_train[y_train!=class2] = -1\n",
    "y_test[y_test!=class2] = -1\n",
    "\n",
    "# Check the number of data and the number of dimensions\n",
    "print('Training set: n = %d, d = %d' % (x_train.shape[0], x_train.shape[1]))\n",
    "print('Test set: n = %d, d = %d' % (x_test.shape[0], x_test.shape[1]))"
   ]
  },
  {
   "cell_type": "markdown",
   "metadata": {},
   "source": [
    "- **Write a function `mysvm` that implements the fast gradient algorithm to train the kernel support vector machine with the smoothed hinge loss. The function takes as input the initial step-size value for the backtracking rule and a stopping criterion based on the norm of the gradient.**"
   ]
  },
  {
   "cell_type": "code",
   "execution_count": 5,
   "metadata": {},
   "outputs": [],
   "source": [
    "def obj(alpha, K, y, lamb, h=0.5):\n",
    "    '''\n",
    "    Find objective value\n",
    "    '''\n",
    "    n, d = K.shape\n",
    "    loss = 0\n",
    "    for i in range(n):\n",
    "        diff = 1 - y[i] * (K.dot(alpha)[i])\n",
    "        if diff < h:\n",
    "            loss += 0\n",
    "        elif diff >  h:\n",
    "            loss += diff\n",
    "        else:\n",
    "            loss += ((diff + h)**2) / (4*h)\n",
    "    obj = loss / n + lamb*alpha.T.dot(K).dot(alpha)\n",
    "    return obj\n",
    "\n",
    "def computegrad(alpha, K, y, lamb, h=0.5):\n",
    "    '''\n",
    "    Find gradient of F\n",
    "    '''\n",
    "    n, d = K.shape\n",
    "    loss = 0\n",
    "    for i in range(n):\n",
    "        diff = 1 - y[i] * (K.dot(alpha)[i])\n",
    "        if diff < h:\n",
    "            loss += 0\n",
    "        elif diff >  h:\n",
    "            loss -= y[i] * K[i]\n",
    "        else:\n",
    "            loss -= (y[i] * K[i] * (diff + h)) / (2*h)\n",
    "    grad = loss / n + 2 * lamb * (K.dot(alpha))\n",
    "    return grad\n",
    "\n",
    "def backtracking(beta, grad, K, y, lamb, eta=1, max_iter=20):\n",
    "    '''\n",
    "    Apply backtracking rule to find eta\n",
    "    '''\n",
    "    norm_grad = np.linalg.norm(grad)\n",
    "    found_eta = 0\n",
    "    t = 0\n",
    "    while t < max_iter:\n",
    "        if obj(beta-eta*grad, K, y, lamb) < obj(beta, K, y, lamb) - 0.5 * eta * norm_grad ** 2:\n",
    "            break\n",
    "        else:\n",
    "            eta *= 0.8\n",
    "            t += 1\n",
    "    return eta\n",
    "\n",
    "def mysvm(beta_theta_init, eta_init, K, y, lamb, max_iter=100, eps=0.001):\n",
    "    '''\n",
    "    Apply fast gradient descent to find beta values\n",
    "    '''\n",
    "    beta = beta_theta_init\n",
    "    theta = beta_theta_init\n",
    "    eta = eta_init\n",
    "    grad = computegrad(theta, K, y, lamb)\n",
    "    beta_vals = [beta]\n",
    "    t = 0\n",
    "    while np.linalg.norm(grad) > eps and t < max_iter:\n",
    "        # backtracking rule\n",
    "        eta = backtracking(theta, grad, K, y, lamb, eta=eta)\n",
    "        beta_new = theta - eta * grad\n",
    "        theta = beta_new + t/(t+3) * (beta_new - beta)\n",
    "        grad = computegrad(theta, K, y, lamb)\n",
    "        beta = beta_new\n",
    "        beta_vals.append(beta_new)\n",
    "        t += 1\n",
    "    return np.array(beta_vals)"
   ]
  },
  {
   "cell_type": "markdown",
   "metadata": {},
   "source": [
    "- **Train your kernel support vector machine with the smoothed hinge loss and the polynomial kernel of order 7 on the the Digits dataset, tuning the regularization parameter $\\lambda$ using cross-validation. The *p*th order polynomial kernel is given by $k(x, y) = (x^T y+b)^p$. You may take $b = 1$.**"
   ]
  },
  {
   "cell_type": "code",
   "execution_count": 6,
   "metadata": {},
   "outputs": [],
   "source": [
    "def objective_plot(betas, K, y, lamb):\n",
    "    '''\n",
    "    Plot objective values over iterations\n",
    "    '''\n",
    "    n = np.size(betas, 0)\n",
    "    objs = np.zeros(n)\n",
    "    for i in range(0, n):\n",
    "        objs[i] = obj(betas[i, :], K, y, lamb)\n",
    "    plt.figure()\n",
    "    plt.plot(np.array(range(n)), objs)\n",
    "    plt.xlabel('Iteration')\n",
    "    plt.ylabel('Objective Value')\n",
    "    plt.title('Objective Value vs. Iteration\\nlambda = %.10f' % lamb)\n",
    "    plt.show()"
   ]
  },
  {
   "cell_type": "code",
   "execution_count": 7,
   "metadata": {},
   "outputs": [
    {
     "name": "stdout",
     "output_type": "stream",
     "text": [
      "Optimal lambda = 0.0069029513\n"
     ]
    }
   ],
   "source": [
    "# Tune the regularization parameter lamb using cross-validation\n",
    "clf = LogisticRegressionCV(Cs=50).fit(x_train, y_train)\n",
    "n, d = x_train.shape\n",
    "lamb_opt = 1/ (2 * n * clf.C_)\n",
    "print('Optimal lambda = %.10f' % lamb_opt)"
   ]
  },
  {
   "cell_type": "code",
   "execution_count": 8,
   "metadata": {},
   "outputs": [
    {
     "data": {
      "image/png": "[encoded data removed]",
      "text/plain": [
       "<Figure size 432x288 with 1 Axes>"
      ]
     },
     "metadata": {
      "needs_background": "light"
     },
     "output_type": "display_data"
    }
   ],
   "source": [
    "# Kernel support vector machine with the smoothed hinge loss\n",
    "dists = sklearn.metrics.pairwise.pairwise_distances(x_train).reshape(-1)\n",
    "sigma = np.median(dists)\n",
    "K = computegram(x_train, x_train, sigma)\n",
    "beta_theta = np.zeros(n)\n",
    "eta = 1/(max(np.linalg.eigvals(1/n*K.dot(K.T))) + lamb_opt)\n",
    "\n",
    "betas = mysvm(beta_theta, eta, K=K, y=y_train, lamb=lamb_opt)\n",
    "objective_plot(betas, K, y_train, lamb_opt)"
   ]
  },
  {
   "cell_type": "code",
   "execution_count": 9,
   "metadata": {},
   "outputs": [
    {
     "data": {
      "image/png": "[encoded data removed]",
      "text/plain": [
       "<Figure size 432x288 with 1 Axes>"
      ]
     },
     "metadata": {
      "needs_background": "light"
     },
     "output_type": "display_data"
    }
   ],
   "source": [
    "# Polynomial kernel of order 7\n",
    "K = kerneleval_poly(x_train, x_train, 1, 7)\n",
    "beta_theta = np.zeros(n)\n",
    "eta = 1/(max(np.linalg.eigvals(1/n*K.dot(K.T))) + lamb_opt)\n",
    "\n",
    "betas = mysvm(beta_theta, eta, K=K, y=y_train, lamb=lamb_opt)\n",
    "objective_plot(betas, K, y_train, lamb_opt)"
   ]
  },
  {
   "cell_type": "markdown",
   "metadata": {},
   "source": [
    "- **Compare the performance of kernel SVMs with different kernels (polynomial kernels with different orders, Gaussian RBF with different bandwidths, etc.).**"
   ]
  },
  {
   "cell_type": "code",
   "execution_count": 10,
   "metadata": {},
   "outputs": [],
   "source": [
    "def predict(beta, X, **kwargs):\n",
    "    n = len(X)\n",
    "    y_pred = np.zeros(n)\n",
    "    y_vals = np.zeros(n)\n",
    "    for i in range(n):\n",
    "        if 'sigma' in kwargs:\n",
    "            sigma = kwargs['sigma']\n",
    "            K = computegram(x_train, X[i, :].reshape(1, -1), sigma=sigma).reshape(-1)\n",
    "            y_vals[i] = K.dot(beta)\n",
    "        elif 'p' in kwargs:\n",
    "            p = kwargs['p']\n",
    "            K = kerneleval_poly(x_train, X[i, :].reshape(1, -1), b=1, p=p).reshape(-1)\n",
    "            y_vals[i] = K.dot(beta)\n",
    "        else:\n",
    "            K = kerneleval_linear(x_train, X[i, :].reshape(1, -1)).reshape(-1)\n",
    "            y_vals[i] = K.dot(beta)\n",
    "    y_pred = np.sign(y_vals)\n",
    "    y_pred = y_pred.astype(int)\n",
    "    return y_pred, y_vals\n",
    "\n",
    "def me_error(beta, X, Y, **kwargs):\n",
    "    pred, vals = predict(beta, X, **kwargs)\n",
    "    err = np.mean(pred != Y)\n",
    "    return err, pred, vals\n",
    "\n",
    "def evaluate(X, Y, sigma=None, p=None):\n",
    "    n, d = x_train.shape\n",
    "    beta_theta = np.zeros(n)\n",
    "    if sigma:\n",
    "        K = computegram(x_train, x_train, sigma)\n",
    "        eta = 1/(max(np.linalg.eigvals(1/n*K.dot(K.T))) + lamb_opt)\n",
    "        betas = mysvm(beta_theta, eta, K, y=y_train, lamb=lamb_opt)\n",
    "        error, pred, vals = me_error(betas[-1, :], X, Y, sigma=sigma)\n",
    "    elif p:\n",
    "        K = kerneleval_poly(x_train, x_train, b=1, p=p)\n",
    "        eta = 1/(max(np.linalg.eigvals(1/n*K.dot(K.T))) + lamb_opt)\n",
    "        betas = mysvm(beta_theta, eta, K, y=y_train, lamb=lamb_opt)\n",
    "        error, pred, vals = me_error(betas[-1, :], X, Y, p=p)\n",
    "    else:\n",
    "        K = kerneleval_linear(x_train, x_train)\n",
    "        eta = 1/(max(np.linalg.eigvals(1/n*K.dot(K.T))) + lamb_opt)\n",
    "        betas = mysvm(beta_theta, eta, K, y=y_train, lamb=lamb_opt)\n",
    "        error, pred, vals = me_error(betas[-1, :], X, Y, p=p)\n",
    "    print('Misclassification error is %.5f' % error)"
   ]
  },
  {
   "cell_type": "code",
   "execution_count": 11,
   "metadata": {},
   "outputs": [
    {
     "name": "stdout",
     "output_type": "stream",
     "text": [
      "Gaussian RBF\n",
      "Bandwidth = 1\n",
      "Misclassification error is 0.00000\n",
      "Bandwidth = 3\n",
      "Misclassification error is 0.00000\n",
      "Bandwidth = 5\n",
      "Misclassification error is 0.00370\n",
      "Bandwidth = 7\n",
      "Misclassification error is 0.00741\n",
      "Bandwidth = 9\n",
      "Misclassification error is 0.03333\n",
      "\n",
      "Polynomial kernel\n",
      "Order = 1\n",
      "Misclassification error is 0.00000\n",
      "Order = 3\n",
      "Misclassification error is 0.00741\n",
      "Order = 5\n",
      "Misclassification error is 0.01481\n",
      "Order = 7\n",
      "Misclassification error is 0.01481\n",
      "Order = 9\n",
      "Misclassification error is 0.01852\n"
     ]
    }
   ],
   "source": [
    "# Gaussian RBF\n",
    "print('Gaussian RBF')\n",
    "for sigma in [1, 3, 5, 7, 9]:\n",
    "    print('Bandwidth = %d' % sigma)\n",
    "    evaluate(x_train, y_train, sigma=sigma)\n",
    "\n",
    "# Polynomial kernels\n",
    "print('\\nPolynomial kernel')\n",
    "for p in [1, 3, 5, 7, 9]:\n",
    "    print('Order = %d' % p)\n",
    "    evaluate(x_train, y_train, p=p)"
   ]
  },
  {
   "cell_type": "markdown",
   "metadata": {},
   "source": [
    "After running the algorithm for kernel SVMs with different kernels, we can see that smaller bandwidth for Gaussian RBF and smaller order for polynomial kernel gives smaller misclassification error, i.e., better performance."
   ]
  },
  {
   "cell_type": "markdown",
   "metadata": {},
   "source": [
    "## Exercise 3 Data Competition Project\n",
    "\n",
    "**In this exercise, you are going to train support vector machines (SVMs) using the data competition 2 project dataset (with 100 classes). You will consider here all classes in the dataset. You may work on this exercise on your own computer first. Note, however, that you need AWS to run the experiments for this entire exercise.**"
   ]
  },
  {
   "cell_type": "code",
   "execution_count": 12,
   "metadata": {},
   "outputs": [
    {
     "name": "stdout",
     "output_type": "stream",
     "text": [
      "Training set\n",
      "Number of observations: 50000\n",
      "Number of dimension: 4096\n",
      "\n",
      "Validation set\n",
      "Number of observations: 10000\n",
      "Number of dimension: 4096\n"
     ]
    }
   ],
   "source": [
    "# Load data\n",
    "x_train = np.load('train_features.npy')\n",
    "y_train = np.load('train_labels.npy')\n",
    "x_val = np.load('val_features.npy')\n",
    "y_val = np.load('val_labels.npy')\n",
    "x_test = np.load('test_features.npy')\n",
    "\n",
    "print('Training set')\n",
    "print('Number of observations: %d' % x_train.shape[0])\n",
    "print('Number of dimension: %d' % x_train.shape[1])\n",
    "print('\\nValidation set')\n",
    "print('Number of observations: %d' % x_val.shape[0])\n",
    "print('Number of dimension: %d' % x_val.shape[1])"
   ]
  },
  {
   "cell_type": "markdown",
   "metadata": {},
   "source": [
    "- **In a one-vs-one fashion, for each pair of classes, train a linear SVM classifier using scikit-learn’s function `LinearSVC`, with the default value for the regularization parameter. Compute the multi-class misclassification error obtained using these classifiers trained in a one-vs-one fashion.**"
   ]
  },
  {
   "cell_type": "code",
   "execution_count": 13,
   "metadata": {},
   "outputs": [
    {
     "data": {
      "text/plain": [
       "OneVsOneClassifier(estimator=LinearSVC(C=1.0, class_weight=None, dual=True, fit_intercept=True,\n",
       "     intercept_scaling=1, loss='squared_hinge', max_iter=1000,\n",
       "     multi_class='ovr', penalty='l2', random_state=None, tol=0.0001,\n",
       "     verbose=0),\n",
       "          n_jobs=-1)"
      ]
     },
     "execution_count": 13,
     "metadata": {},
     "output_type": "execute_result"
    }
   ],
   "source": [
    "svm = LinearSVC()\n",
    "clf = multiclass.OneVsOneClassifier(svm, n_jobs=-1)\n",
    "clf.fit(x_train,y_train)"
   ]
  },
  {
   "cell_type": "code",
   "execution_count": 17,
   "metadata": {},
   "outputs": [
    {
     "ename": "KeyboardInterrupt",
     "evalue": "",
     "output_type": "error",
     "traceback": [
      "\u001b[0;31m---------------------------------------------------------------------------\u001b[0m",
      "\u001b[0;31mKeyboardInterrupt\u001b[0m                         Traceback (most recent call last)",
      "\u001b[0;32m<ipython-input-17-8c5621e80e2e>\u001b[0m in \u001b[0;36m<module>\u001b[0;34m\u001b[0m\n\u001b[1;32m      1\u001b[0m \u001b[0;31m# Training set\u001b[0m\u001b[0;34m\u001b[0m\u001b[0;34m\u001b[0m\u001b[0;34m\u001b[0m\u001b[0m\n\u001b[0;32m----> 2\u001b[0;31m \u001b[0mpred\u001b[0m \u001b[0;34m=\u001b[0m \u001b[0mclf\u001b[0m\u001b[0;34m.\u001b[0m\u001b[0mpredict\u001b[0m\u001b[0;34m(\u001b[0m\u001b[0mx_train\u001b[0m\u001b[0;34m)\u001b[0m\u001b[0;34m\u001b[0m\u001b[0;34m\u001b[0m\u001b[0m\n\u001b[0m\u001b[1;32m      3\u001b[0m \u001b[0merror\u001b[0m \u001b[0;34m=\u001b[0m \u001b[0mnp\u001b[0m\u001b[0;34m.\u001b[0m\u001b[0mmean\u001b[0m\u001b[0;34m(\u001b[0m\u001b[0mpred\u001b[0m \u001b[0;34m!=\u001b[0m \u001b[0my_train\u001b[0m\u001b[0;34m)\u001b[0m\u001b[0;34m\u001b[0m\u001b[0;34m\u001b[0m\u001b[0m\n\u001b[1;32m      4\u001b[0m \u001b[0mprint\u001b[0m\u001b[0;34m(\u001b[0m\u001b[0;34m'Multi-class miscalssification error on training set is %.2f'\u001b[0m \u001b[0;34m%\u001b[0m \u001b[0merror\u001b[0m\u001b[0;34m)\u001b[0m\u001b[0;34m\u001b[0m\u001b[0;34m\u001b[0m\u001b[0m\n\u001b[1;32m      5\u001b[0m \u001b[0;34m\u001b[0m\u001b[0m\n",
      "\u001b[0;32m/anaconda3/lib/python3.7/site-packages/sklearn/multiclass.py\u001b[0m in \u001b[0;36mpredict\u001b[0;34m(self, X)\u001b[0m\n\u001b[1;32m    582\u001b[0m             \u001b[0mPredicted\u001b[0m \u001b[0mmulti\u001b[0m\u001b[0;34m-\u001b[0m\u001b[0;32mclass\u001b[0m \u001b[0mtargets\u001b[0m\u001b[0;34m.\u001b[0m\u001b[0;34m\u001b[0m\u001b[0;34m\u001b[0m\u001b[0m\n\u001b[1;32m    583\u001b[0m         \"\"\"\n\u001b[0;32m--> 584\u001b[0;31m         \u001b[0mY\u001b[0m \u001b[0;34m=\u001b[0m \u001b[0mself\u001b[0m\u001b[0;34m.\u001b[0m\u001b[0mdecision_function\u001b[0m\u001b[0;34m(\u001b[0m\u001b[0mX\u001b[0m\u001b[0;34m)\u001b[0m\u001b[0;34m\u001b[0m\u001b[0;34m\u001b[0m\u001b[0m\n\u001b[0m\u001b[1;32m    585\u001b[0m         \u001b[0;32mif\u001b[0m \u001b[0mself\u001b[0m\u001b[0;34m.\u001b[0m\u001b[0mn_classes_\u001b[0m \u001b[0;34m==\u001b[0m \u001b[0;36m2\u001b[0m\u001b[0;34m:\u001b[0m\u001b[0;34m\u001b[0m\u001b[0;34m\u001b[0m\u001b[0m\n\u001b[1;32m    586\u001b[0m             \u001b[0;32mreturn\u001b[0m \u001b[0mself\u001b[0m\u001b[0;34m.\u001b[0m\u001b[0mclasses_\u001b[0m\u001b[0;34m[\u001b[0m\u001b[0;34m(\u001b[0m\u001b[0mY\u001b[0m \u001b[0;34m>\u001b[0m \u001b[0;36m0\u001b[0m\u001b[0;34m)\u001b[0m\u001b[0;34m.\u001b[0m\u001b[0mastype\u001b[0m\u001b[0;34m(\u001b[0m\u001b[0mnp\u001b[0m\u001b[0;34m.\u001b[0m\u001b[0mint\u001b[0m\u001b[0;34m)\u001b[0m\u001b[0;34m]\u001b[0m\u001b[0;34m\u001b[0m\u001b[0;34m\u001b[0m\u001b[0m\n",
      "\u001b[0;32m/anaconda3/lib/python3.7/site-packages/sklearn/multiclass.py\u001b[0m in \u001b[0;36mdecision_function\u001b[0;34m(self, X)\u001b[0m\n\u001b[1;32m    614\u001b[0m                                  for est, Xi in zip(self.estimators_, Xs)]).T\n\u001b[1;32m    615\u001b[0m         confidences = np.vstack([_predict_binary(est, Xi)\n\u001b[0;32m--> 616\u001b[0;31m                                  for est, Xi in zip(self.estimators_, Xs)]).T\n\u001b[0m\u001b[1;32m    617\u001b[0m         Y = _ovr_decision_function(predictions,\n\u001b[1;32m    618\u001b[0m                                    confidences, len(self.classes_))\n",
      "\u001b[0;32m/anaconda3/lib/python3.7/site-packages/sklearn/multiclass.py\u001b[0m in \u001b[0;36m<listcomp>\u001b[0;34m(.0)\u001b[0m\n\u001b[1;32m    614\u001b[0m                                  for est, Xi in zip(self.estimators_, Xs)]).T\n\u001b[1;32m    615\u001b[0m         confidences = np.vstack([_predict_binary(est, Xi)\n\u001b[0;32m--> 616\u001b[0;31m                                  for est, Xi in zip(self.estimators_, Xs)]).T\n\u001b[0m\u001b[1;32m    617\u001b[0m         Y = _ovr_decision_function(predictions,\n\u001b[1;32m    618\u001b[0m                                    confidences, len(self.classes_))\n",
      "\u001b[0;32m/anaconda3/lib/python3.7/site-packages/sklearn/multiclass.py\u001b[0m in \u001b[0;36m_predict_binary\u001b[0;34m(estimator, X)\u001b[0m\n\u001b[1;32m     93\u001b[0m         \u001b[0;32mreturn\u001b[0m \u001b[0mestimator\u001b[0m\u001b[0;34m.\u001b[0m\u001b[0mpredict\u001b[0m\u001b[0;34m(\u001b[0m\u001b[0mX\u001b[0m\u001b[0;34m)\u001b[0m\u001b[0;34m\u001b[0m\u001b[0;34m\u001b[0m\u001b[0m\n\u001b[1;32m     94\u001b[0m     \u001b[0;32mtry\u001b[0m\u001b[0;34m:\u001b[0m\u001b[0;34m\u001b[0m\u001b[0;34m\u001b[0m\u001b[0m\n\u001b[0;32m---> 95\u001b[0;31m         \u001b[0mscore\u001b[0m \u001b[0;34m=\u001b[0m \u001b[0mnp\u001b[0m\u001b[0;34m.\u001b[0m\u001b[0mravel\u001b[0m\u001b[0;34m(\u001b[0m\u001b[0mestimator\u001b[0m\u001b[0;34m.\u001b[0m\u001b[0mdecision_function\u001b[0m\u001b[0;34m(\u001b[0m\u001b[0mX\u001b[0m\u001b[0;34m)\u001b[0m\u001b[0;34m)\u001b[0m\u001b[0;34m\u001b[0m\u001b[0;34m\u001b[0m\u001b[0m\n\u001b[0m\u001b[1;32m     96\u001b[0m     \u001b[0;32mexcept\u001b[0m \u001b[0;34m(\u001b[0m\u001b[0mAttributeError\u001b[0m\u001b[0;34m,\u001b[0m \u001b[0mNotImplementedError\u001b[0m\u001b[0;34m)\u001b[0m\u001b[0;34m:\u001b[0m\u001b[0;34m\u001b[0m\u001b[0;34m\u001b[0m\u001b[0m\n\u001b[1;32m     97\u001b[0m         \u001b[0;31m# probabilities of the positive class\u001b[0m\u001b[0;34m\u001b[0m\u001b[0;34m\u001b[0m\u001b[0;34m\u001b[0m\u001b[0m\n",
      "\u001b[0;32m/anaconda3/lib/python3.7/site-packages/sklearn/linear_model/base.py\u001b[0m in \u001b[0;36mdecision_function\u001b[0;34m(self, X)\u001b[0m\n\u001b[1;32m    263\u001b[0m \u001b[0;34m\u001b[0m\u001b[0m\n\u001b[1;32m    264\u001b[0m         scores = safe_sparse_dot(X, self.coef_.T,\n\u001b[0;32m--> 265\u001b[0;31m                                  dense_output=True) + self.intercept_\n\u001b[0m\u001b[1;32m    266\u001b[0m         \u001b[0;32mreturn\u001b[0m \u001b[0mscores\u001b[0m\u001b[0;34m.\u001b[0m\u001b[0mravel\u001b[0m\u001b[0;34m(\u001b[0m\u001b[0;34m)\u001b[0m \u001b[0;32mif\u001b[0m \u001b[0mscores\u001b[0m\u001b[0;34m.\u001b[0m\u001b[0mshape\u001b[0m\u001b[0;34m[\u001b[0m\u001b[0;36m1\u001b[0m\u001b[0;34m]\u001b[0m \u001b[0;34m==\u001b[0m \u001b[0;36m1\u001b[0m \u001b[0;32melse\u001b[0m \u001b[0mscores\u001b[0m\u001b[0;34m\u001b[0m\u001b[0;34m\u001b[0m\u001b[0m\n\u001b[1;32m    267\u001b[0m \u001b[0;34m\u001b[0m\u001b[0m\n",
      "\u001b[0;32m/anaconda3/lib/python3.7/site-packages/sklearn/utils/extmath.py\u001b[0m in \u001b[0;36msafe_sparse_dot\u001b[0;34m(a, b, dense_output)\u001b[0m\n\u001b[1;32m    171\u001b[0m         \u001b[0;32mreturn\u001b[0m \u001b[0mret\u001b[0m\u001b[0;34m\u001b[0m\u001b[0;34m\u001b[0m\u001b[0m\n\u001b[1;32m    172\u001b[0m     \u001b[0;32melse\u001b[0m\u001b[0;34m:\u001b[0m\u001b[0;34m\u001b[0m\u001b[0;34m\u001b[0m\u001b[0m\n\u001b[0;32m--> 173\u001b[0;31m         \u001b[0;32mreturn\u001b[0m \u001b[0mnp\u001b[0m\u001b[0;34m.\u001b[0m\u001b[0mdot\u001b[0m\u001b[0;34m(\u001b[0m\u001b[0ma\u001b[0m\u001b[0;34m,\u001b[0m \u001b[0mb\u001b[0m\u001b[0;34m)\u001b[0m\u001b[0;34m\u001b[0m\u001b[0;34m\u001b[0m\u001b[0m\n\u001b[0m\u001b[1;32m    174\u001b[0m \u001b[0;34m\u001b[0m\u001b[0m\n\u001b[1;32m    175\u001b[0m \u001b[0;34m\u001b[0m\u001b[0m\n",
      "\u001b[0;31mKeyboardInterrupt\u001b[0m: "
     ]
    }
   ],
   "source": [
    "# Training set\n",
    "pred = clf.predict(x_train)\n",
    "error = np.mean(pred != y_train)\n",
    "print('Multi-class misclassification error on training set is %.2f' % error)\n",
    "\n",
    "# Validation set\n",
    "pred = clf.predict(x_val)\n",
    "error = np.mean(pred != y_val)\n",
    "print('Multi-class misclassification error on validation set is %.2f' % error)"
   ]
  },
  {
   "cell_type": "code",
   "execution_count": null,
   "metadata": {},
   "outputs": [],
   "source": [
    "# Test set\n",
    "pred = clf.predict(x_test)\n",
    "\n",
    "# Write to submission.csv\n",
    "df = pd.read_csv('sample_submission.csv')\n",
    "df['Category'] = pred\n",
    "df.to_csv('submission.csv',index=False)"
   ]
  },
  {
   "cell_type": "markdown",
   "metadata": {},
   "source": [
    "- **In a one-vs-rest fashion, for each class, train a linear SVM classifier using scikit-learn’s function `LinearSVC`, with the default value for $\\lambda c$. Compute the multi-class misclassification error obtained using these classifiers trained in a one-vs-rest fashion.**"
   ]
  },
  {
   "cell_type": "code",
   "execution_count": null,
   "metadata": {},
   "outputs": [],
   "source": [
    "# Train OvR classifiers\n",
    "clf = LinearSVC(multi_class='ovr')\n",
    "clf.fit(x_train, y_train)"
   ]
  },
  {
   "cell_type": "code",
   "execution_count": null,
   "metadata": {},
   "outputs": [],
   "source": [
    "# Training set\n",
    "pred = clf.predict(x_train)\n",
    "error = np.mean(pred != y_train)\n",
    "print('Multi-class misclassification error on training set is %.2f' % error)\n",
    "\n",
    "# Validation set\n",
    "pred = clf.predict(x_val)\n",
    "error = np.mean(pred != y_val)\n",
    "print('Multi-class misclassification error on validation set is %.2f' % error)"
   ]
  },
  {
   "cell_type": "code",
   "execution_count": null,
   "metadata": {},
   "outputs": [],
   "source": [
    "# Test set\n",
    "pred = clf.predict(x_test)\n",
    "\n",
    "# Write to submission.csv\n",
    "df = pd.read_csv('sample_submission.csv')\n",
    "df['Category'] = pred\n",
    "df.to_csv('submission.csv',index=False)"
   ]
  },
  {
   "cell_type": "markdown",
   "metadata": {},
   "source": [
    "- **Redo all questions above now using your own code for the linear SVMs from Exercise 1. Make to sure to run preliminary experiments to decide how to set the stopping criterion to a value that allows the experiments to complete in a reasonable amount of time.**"
   ]
  },
  {
   "cell_type": "code",
   "execution_count": null,
   "metadata": {},
   "outputs": [],
   "source": [
    "def subsetData_OvO(X, Y, class1, class2):\n",
    "    # Subset data\n",
    "    x = X\n",
    "    y = Y\n",
    "    idx = np.concatenate((np.where(Y==class1),np.where(Y==class2)), axis=1).reshape(-1)\n",
    "    x = x[idx]\n",
    "    y = y[idx]\n",
    "    # Standardize data\n",
    "    scaler = StandardScaler().fit(x)\n",
    "    x = scaler.transform(x)\n",
    "    # Change label to +/- 1\n",
    "    y[y==class1] = -1\n",
    "    y[y==class2] = 1\n",
    "    \n",
    "    return x, y\n",
    "\n",
    "def subsetData_OvR(X, Y, class1):\n",
    "    # Subset data\n",
    "    x = X\n",
    "    y = Y\n",
    "    # Standardize data\n",
    "    scaler = StandardScaler().fit(x)\n",
    "    x = scaler.transform(x)\n",
    "    # Change label to +/- 1\n",
    "    y[y==class1] = 1\n",
    "    y[y!=class1] = -1\n",
    "    \n",
    "    return x, y\n",
    "\n",
    "def predict_svm(X, clf, class1, class2):\n",
    "    n = len(X)\n",
    "    pred = np.zeros(n)\n",
    "    vals = np.zeros(n)\n",
    "    for i in range(n):\n",
    "        K = kerneleval_linear(X, X[i,:].reshape(1, -1)).reshape(-1)\n",
    "        vals[i] = K.dot(clf)\n",
    "    pred = np.sign(vals)\n",
    "    pred = pred.astype(int)\n",
    "    pred[pred==-1] = class1\n",
    "    pred[pred==1] = class2\n",
    "    return pred\n",
    "\n",
    "def predict_clf(X, clf, class1, class2):\n",
    "    pred = clf.predict(X)\n",
    "    pred[pred==-1] = class1\n",
    "    pred[pred==1] = class2\n",
    "    return pred\n",
    "\n",
    "def multiPredict(X, pairs, clfs, svm=False, ovo=True):\n",
    "    preds = np.array([[0]]*X.shape[0])\n",
    "    for i in range(len(clfs)):\n",
    "        if svm:\n",
    "            pred = predict_svm(X, clfs[i], pairs[i][0], pairs[i][1])\n",
    "        else:\n",
    "            pred = predict_clf(X, clfs[i], pairs[i][0], pairs[i][1])\n",
    "        pred = np.array([pred]).T\n",
    "        preds = np.concatenate((preds, pred), axis=1)\n",
    "    if ovo:\n",
    "        pred_final, cnt = mode(preds, axis=1)\n",
    "    else:\n",
    "        pred_final = max(preds, axis=1)\n",
    "    return pred_final.reshape(-1)"
   ]
  },
  {
   "cell_type": "code",
   "execution_count": null,
   "metadata": {},
   "outputs": [],
   "source": [
    "# Train OvO classifiers\n",
    "arr = [i for i in range(100)]\n",
    "pairs = list(combinations(arr, 2))\n",
    "clfs = []\n",
    "\n",
    "# Train SVM with linear kernel\n",
    "n, d = x_train.shape\n",
    "K = kerneleval_linear(x_train)\n",
    "lamb = 0.000001\n",
    "\n",
    "for pair in pairs:\n",
    "    class1 = pair[0]\n",
    "    class2 = pair[1]\n",
    "    xtrain, ytrain = subsetData_OvO(x_train, y_train, class1, class2)\n",
    "    k = K[y_train==class1, y_train==class2]\n",
    "    eta = 1/(max(np.linalg.eigvals(1/n*k.dot(k.T))) + lamb)\n",
    "    betas = mysvm(np.zeros(n), eta, k, ytrain, lamb, max_iter=10, eps=0.01)\n",
    "    clf = betas[-1:].reshape(-1)\n",
    "    clfs.append(clf)"
   ]
  },
  {
   "cell_type": "code",
   "execution_count": null,
   "metadata": {},
   "outputs": [],
   "source": [
    "# Test set\n",
    "pred = multiPredict(x_test, pairs, clfs, svm=True)\n",
    "\n",
    "# Write to submission.csv\n",
    "df = pd.read_csv('sample_submission.csv')\n",
    "df['Category'] = pred\n",
    "df.to_csv('submission.csv',index=False)"
   ]
  },
  {
   "cell_type": "code",
   "execution_count": null,
   "metadata": {},
   "outputs": [],
   "source": [
    "# Train OvR classifiers\n",
    "arr = [i for i in range(100)]\n",
    "pairs = []\n",
    "clfs = []\n",
    "\n",
    "# Train SVM with linear kernel\n",
    "n, d = x_train.shape\n",
    "K = kerneleval_linear(x_train)\n",
    "lamb = 0.000001\n",
    "eta = 1/(max(np.linalg.eigvals(1/n*K.dot(K.T))) + lamb)\n",
    "\n",
    "for cls in arr:\n",
    "    pairs.append([cls, -1])\n",
    "    xtrain, ytrain = subsetData_OvR(x_train, y_train, cls)\n",
    "    betas = mysvm(np.zeros(n), eta, K, ytrain, lamb, max_iter=10, eps=0.01)\n",
    "    clf = betas[-1:].reshape(-1)\n",
    "    clfs.append(clf)"
   ]
  },
  {
   "cell_type": "code",
   "execution_count": null,
   "metadata": {},
   "outputs": [],
   "source": [
    "# Test set\n",
    "pred = multiPredict(x_test, pairs, clfs, svm=True, ovo=False)\n",
    "\n",
    "# Write to submission.csv\n",
    "df = pd.read_csv('sample_submission.csv')\n",
    "df['Category'] = pred\n",
    "df.to_csv('submission.csv',index=False)"
   ]
  }
 ],
 "metadata": {
  "kernelspec": {
   "display_name": "Python 3",
   "language": "python",
   "name": "python3"
  },
  "language_info": {
   "codemirror_mode": {
    "name": "ipython",
    "version": 3
   },
   "file_extension": ".py",
   "mimetype": "text/x-python",
   "name": "python",
   "nbconvert_exporter": "python",
   "pygments_lexer": "ipython3",
   "version": "3.7.3"
  }
 },
 "nbformat": 4,
 "nbformat_minor": 2
}
