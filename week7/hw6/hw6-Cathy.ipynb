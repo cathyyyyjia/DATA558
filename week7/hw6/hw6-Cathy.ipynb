{
 "cells": [
  {
   "cell_type": "markdown",
   "metadata": {},
   "source": [
    "# <center> DATA 558 Homework 6 </center>\n",
    "<center> Cathy Jia </center>\n",
    "<center> Due May 24, 2019 by 11:59pm </center>"
   ]
  },
  {
   "cell_type": "code",
   "execution_count": 1,
   "metadata": {},
   "outputs": [],
   "source": [
    "# Display all of the results.\n",
    "from IPython.core.interactiveshell import InteractiveShell\n",
    "InteractiveShell.ast_node_interactivity = \"all\"\n",
    "# Hide warnings\n",
    "import warnings\n",
    "warnings.filterwarnings('ignore')"
   ]
  },
  {
   "cell_type": "markdown",
   "metadata": {},
   "source": [
    "# Exercise 1\n",
    "\n",
    "**In this exercise, you will implement in Python a first version of *your own coordinate descent algorithm* to solve the LASSO problem, that is the l1-regularized least-squares regression problem.**\n",
    "\n",
    "**Recall from the lectures that the LASSO problem writes as**\n",
    "\n",
    "$$min\\space F(\\beta) = \\frac{1}{n}\\sum _{i=1}^n (y_i - x_i^T \\beta)^2+\\lambda||\\beta||_1$$\n",
    "\n",
    "## Coordinate Descent\n",
    "**The coordinate descent algorithm is outlined in Algorithm 1. The algorithm requires a subroutine that performs the partial minimization of the objective for any coordinate $\\beta_j$.**\n",
    "\n",
    "- **Assume that $d=1$ and $n=1$. The sample is then of size 1 and boils down to just $(x, y)$; the learning parameter $\\beta$ is then a scalar. The function $F$ writes simply as**\n",
    "\n",
    "    $$F(\\beta)=(y−x\\beta)^2 +\\lambda|\\beta|$$\n",
    "\n",
    "    **The solution to the minimization problem**\n",
    "    \n",
    "    $$min_\\beta\\space F(\\beta)$$\n",
    "\n",
    "    **is given in Slide 61 of the Week 7 Lecture. Write a function that computes the formula of the solution of this minimization problem.**\n",
    "\n",
    "    \\begin{equation}\n",
    "        \\beta = \\Bigg\\{\n",
    "            \\begin{matrix}\n",
    "            (2xy + \\lambda) / 2x^2 & if & 2xy < -\\lambda \\\\\n",
    "            0 & if &2xy \\in [-1, +1] \\\\\n",
    "            (2xy - \\lambda) / 2x^2 & if & 2xy > \\lambda\n",
    "            \\end{matrix}\n",
    "    \\end{equation}"
   ]
  },
  {
   "cell_type": "markdown",
   "metadata": {},
   "source": [
    "- **Assume now that $d > 1$ and $n > 1$. The full minimization problem now writes as**\n",
    "\n",
    "    $$F(\\beta) = \\frac{1}{n}\\sum _{i=1}^n (y_i - x_i^T \\beta)^2+\\lambda||\\beta||_1$$\n",
    "\n",
    "    **Coordinate descent proceeds by sequential partial minimization with respect to each coordinate $\\beta_j$, that by solving partial minimization problems of form**\n",
    "    \n",
    "    $$min_{\\beta_j}\\frac{1}{n}\\sum _{i=1}^n \\{yi −(\\beta_1 x_{i,1} +···+\\beta_j x_{i,j} +···+\\beta_d x_{i,d})\\}^2 + \\lambda (|\\beta_1|+···+|\\beta_j|+···+|\\beta_d|)$$\n",
    "\n",
    "    **Write a function that computes the formula of the solution of this partial minimization problem with respect to $\\beta_j$ for any $j = 1,...,d$.**\n",
    "    \n",
    "    \\begin{equation}\n",
    "        \\beta_j(c_j) = \\Bigg\\{\n",
    "            \\begin{matrix}\n",
    "            (c_j + \\lambda) / a_j & if & c_j < -\\lambda \\\\\n",
    "            0 & if &c_j \\in [-1, +1] \\\\\n",
    "            (c_j - \\lambda) / a_j & if & c_j > \\lambda\n",
    "            \\end{matrix}\n",
    "    \\end{equation}\n",
    "    \n",
    "    for $a_j = \\frac{2}{n}\\sum_{i=1}^n x_{i,j}^2, \\space c_j = \\frac{2}{n}\\sum_{i=1}^n x_{i,j}(y_i - \\beta_{-j}^T x_{i,-j})$, where $\\beta_{-j}$ is $\\beta$ without component $j$ and $x_{i,−j}$ is $x_i$ without component $j$."
   ]
  },
  {
   "cell_type": "markdown",
   "metadata": {},
   "source": [
    "- **Consider the Hitters dataset. You may download it via**"
   ]
  },
  {
   "cell_type": "code",
   "execution_count": 2,
   "metadata": {},
   "outputs": [],
   "source": [
    "import pandas as pd\n",
    "hitters = pd.read_csv('https://raw.githubusercontent.com/selva86/datasets/master/Hitters.csv', sep=',', header=0)"
   ]
  },
  {
   "cell_type": "markdown",
   "metadata": {},
   "source": [
    "**Standardize the data, i.e., center the features and divide them by their standard deviation, and center the outputs. For any categorical variables you should first convert them to indicator variables and then perform the standardization.**"
   ]
  },
  {
   "cell_type": "code",
   "execution_count": 3,
   "metadata": {
    "scrolled": false
   },
   "outputs": [
    {
     "name": "stdout",
     "output_type": "stream",
     "text": [
      "Training set: n = 197, d = 19\n",
      "Test set: n = 66, d = 19\n"
     ]
    }
   ],
   "source": [
    "from sklearn.model_selection import train_test_split\n",
    "from sklearn import preprocessing\n",
    "\n",
    "hitters = hitters.dropna()\n",
    "\n",
    "# Create our x matrix with the features and y vector with the response\n",
    "x = hitters.drop('Salary', axis=1)\n",
    "x = pd.get_dummies(x, drop_first=True) # convert categorical variables into indicator variables\n",
    "y = hitters.Salary\n",
    "\n",
    "# Divide the data into training and test sets.\n",
    "x_train, x_test, y_train, y_test = train_test_split(x, y, random_state=0)\n",
    "\n",
    "# Standardize the data\n",
    "scaler = preprocessing.StandardScaler().fit(x_train)\n",
    "x_train = scaler.transform(x_train)\n",
    "x_test = scaler.transform(x_test)\n",
    "scaler = preprocessing.StandardScaler().fit(y_train.values.reshape(-1, 1))\n",
    "y_train = scaler.transform(y_train.values.reshape(-1, 1)).reshape((-1))\n",
    "y_test = scaler.transform(y_test.values.reshape(-1, 1)).reshape((-1))\n",
    "\n",
    "# Check the number of data and the number of dimensions\n",
    "print('Training set: n = %d, d = %d' % (x_train.shape[0], x_train.shape[1]))\n",
    "print('Test set: n = %d, d = %d' % (x_test.shape[0], x_test.shape[1]))"
   ]
  },
  {
   "cell_type": "markdown",
   "metadata": {},
   "source": [
    "- **Write a function `computeobj` that computes and returns $F(\\beta)$ for any $\\beta$.**"
   ]
  },
  {
   "cell_type": "code",
   "execution_count": 4,
   "metadata": {},
   "outputs": [
    {
     "data": {
      "text/plain": [
       "10.368421052631575"
      ]
     },
     "execution_count": 4,
     "metadata": {},
     "output_type": "execute_result"
    }
   ],
   "source": [
    "import numpy as np\n",
    "\n",
    "def computeobj(X, Y, beta, lamb):\n",
    "    n = X.shape[1]\n",
    "    return 1/n * np.sum((Y - X.dot(beta))**2) + lamb * (np.sum(np.abs(beta)))"
   ]
  },
  {
   "cell_type": "markdown",
   "metadata": {},
   "source": [
    "- **Write a function `cycliccoorddescent` that implements the cyclic coordinate descent algorithm. The cyclic coordinate descent algorithm proceeds sequentially. At each iteration, the algorithm increments the index $j_t$ of the coordinate to minimize over. Then the algorithm performs partial minimization with respect to the coordinate $\\beta_{j_t}$ corresponding to that index. After updating the coordinate $\\beta_{j_t}$, the algorithm proceeds to the next iteration. The function takes as input the initial point and the maximum number of iterations. The stopping criterion is the maximum number of iterations.**"
   ]
  },
  {
   "cell_type": "code",
   "execution_count": 5,
   "metadata": {},
   "outputs": [
    {
     "data": {
      "text/plain": [
       "array([0.34970943, 0.        , 0.        , 0.        , 0.        ,\n",
       "       0.        , 0.        , 0.        , 0.        , 0.        ,\n",
       "       0.        , 0.        , 0.        , 0.        , 0.        ,\n",
       "       0.        , 0.        , 0.        , 0.        ])"
      ]
     },
     "execution_count": 5,
     "metadata": {},
     "output_type": "execute_result"
    }
   ],
   "source": [
    "def find_new_beta_j(X, Y, beta, lamb, j):\n",
    "    x_j = X[:, j]\n",
    "    x_drop_j = np.delete(X, j, 1)\n",
    "    beta_new = beta\n",
    "    beta_j = beta[j]\n",
    "    beta_drop_j = np.delete(beta, j)\n",
    "    n = X.shape[0]\n",
    "    a_j = 2/n * x_j.dot(x_j)\n",
    "    c_j = 2/n * x_j.dot(Y - x_drop_j.dot(beta_drop_j))\n",
    "    \n",
    "    if c_j < -lamb:\n",
    "        beta_new[j] = (c_j + lamb) / a_j\n",
    "    elif c_j > lamb:\n",
    "        beta_new[j] = (c_j - lamb) / a_j\n",
    "    else:\n",
    "        beta_new[j] = 0\n",
    "    \n",
    "    return beta_new"
   ]
  },
  {
   "cell_type": "code",
   "execution_count": 6,
   "metadata": {
    "scrolled": true
   },
   "outputs": [
    {
     "data": {
      "text/plain": [
       "array([0.34970943, 0.        , 0.        , 0.        , 0.        ,\n",
       "       0.        , 0.        , 0.        , 0.        , 0.        ,\n",
       "       0.        , 0.        , 0.        , 0.        , 0.        ,\n",
       "       0.        , 0.        , 0.        , 0.        ])"
      ]
     },
     "execution_count": 6,
     "metadata": {},
     "output_type": "execute_result"
    }
   ],
   "source": [
    "import copy\n",
    "\n",
    "def cycliccoorddescent(X, Y, beta_init, lamb, max_iter):\n",
    "    # Initialization\n",
    "    beta = copy.deepcopy(beta_init)\n",
    "    betas = [copy.deepcopy(beta)]\n",
    "    t = 0\n",
    "    d = X.shape[1]\n",
    "    \n",
    "    # Stopping criterion: maximum number of iterations\n",
    "    while t < max_iter:\n",
    "        # Pick a coordinate index j\n",
    "        j = np.mod(t, d)\n",
    "        \n",
    "        # Find new beta j by minimizing F(beta)\n",
    "        beta_j = find_new_beta_j(X, Y, beta, lamb, j)\n",
    "        beta = copy.deepcopy(beta_j)\n",
    "        # Update beta\n",
    "        betas.append(copy.deepcopy(beta))\n",
    "        \n",
    "        t += 1\n",
    "    \n",
    "    return betas"
   ]
  },
  {
   "cell_type": "markdown",
   "metadata": {},
   "source": [
    "- **Write a function `pickcoord` that samples uniformly from the set $\\{1, . . . , d\\}$ .**"
   ]
  },
  {
   "cell_type": "code",
   "execution_count": 7,
   "metadata": {},
   "outputs": [],
   "source": [
    "def pickcoord(d):\n",
    "    return np.random.randint(d)"
   ]
  },
  {
   "cell_type": "markdown",
   "metadata": {},
   "source": [
    "- **Write a function `randcoorddescent` that implements the randomized coordinate descent algorithm. The randomized coordinate descent algorithm proceeds as follows. At each iteration, the algorithm samples the index $j_t$ of the coordinate to minimize over. Then the algorithm performs partial minimization with respect to the coordinate $\\beta_{j_t}$ corresponding to that index. After updating the coordinate $\\beta_{j_t}$, the algorithm proceeds to the next iteration. The function takes as input the initial point and the maximum number of iterations. The stopping criterion is the maximum number of iterations.**"
   ]
  },
  {
   "cell_type": "code",
   "execution_count": 8,
   "metadata": {
    "scrolled": true
   },
   "outputs": [
    {
     "data": {
      "text/plain": [
       "array([ 0.        ,  0.        ,  0.        ,  0.        ,  0.        ,\n",
       "        0.        ,  0.        ,  0.        ,  0.        ,  0.        ,\n",
       "        0.        ,  0.        ,  0.        ,  0.        ,  0.        ,\n",
       "        0.        ,  0.        , -0.08236904,  0.        ])"
      ]
     },
     "execution_count": 8,
     "metadata": {},
     "output_type": "execute_result"
    }
   ],
   "source": [
    "def randcoorddescent(X, Y, beta_init, lamb, max_iter):\n",
    "    # Initialization\n",
    "    beta = copy.deepcopy(beta_init)\n",
    "    betas = [copy.deepcopy(beta)]\n",
    "    t = 0\n",
    "    d = X.shape[1]\n",
    "    \n",
    "    # Stopping criterion: maximum number of iterations\n",
    "    while t < max_iter:\n",
    "        # Pick a coordinate index j\n",
    "        j = pickcoord(d)\n",
    "        \n",
    "        # Find new beta j by minimizing F(beta)\n",
    "        beta_j = find_new_beta_j(X, Y, beta, lamb, j)\n",
    "        beta = copy.deepcopy(beta_j)\n",
    "        # Update beta\n",
    "        betas.append(copy.deepcopy(beta))\n",
    "        \n",
    "        t += 1\n",
    "    \n",
    "    return betas"
   ]
  },
  {
   "cell_type": "markdown",
   "metadata": {},
   "source": [
    "- **Set the maximum number of iterations to 1000. In the remainder, the iteration counter `iter` refers here to $t/d$, that is the effective number of passes over all coordinates. Run cross-validation on the training set of the Hitters dataset using `scikit-learn` to find the optimal value of $\\lambda$. Run `cycliccoorddescent` and `randcoorddescent` on the training set of the Hitters dataset for that value of $\\lambda$ found by cross-validation. Plot the curves of the objective values $F(\\beta_t)$ for both algorithms versus the iteration counter `iter` (use different colors). What do you observe?**\n",
    "\n",
    "    From documentation https://scikit-learn.org/stable/modules/generated/sklearn.linear_model.LassoCV.html, the optimization objective of Lasso in `scikit-learn` is\n",
    "\n",
    "    \\begin{equation}\n",
    "    min_\\beta\\space \\frac{1}{2n} ||Y - X\\beta||^2_2 + \\alpha ||\\beta||_1\n",
    "    \\end{equation}\n",
    "    \n",
    "    which can be converted to\n",
    "    \n",
    "    \\begin{equation}\n",
    "    min_\\beta\\space \\frac{1}{n} ||Y - X\\beta||^2_2 + 2\\alpha ||\\beta||_1\n",
    "    \\end{equation}\n",
    "    \n",
    "    So we have $\\lambda = 2\\alpha$."
   ]
  },
  {
   "cell_type": "code",
   "execution_count": 9,
   "metadata": {},
   "outputs": [],
   "source": [
    "import matplotlib.pyplot as plt\n",
    "\n",
    "def plot_obj(X, Y, betas1, betas2, lamb):\n",
    "    d = X.shape[1]\n",
    "    objs1 = []\n",
    "    objs2 = []\n",
    "    for iter in range(0, len(betas1), d):\n",
    "        beta = betas1[iter]\n",
    "        obj = computeobj(X, Y, beta, lamb)\n",
    "        objs1.append(obj)\n",
    "    for iter in range(0, len(betas2), d):\n",
    "        beta = betas2[iter]\n",
    "        obj = computeobj(X, Y, beta, lamb)\n",
    "        objs2.append(obj)\n",
    "    plt.figure()\n",
    "    plt.plot(objs1, label='Cyclic')\n",
    "    plt.plot(objs2, label='Random')\n",
    "    plt.title('Objective Value over Iteration')\n",
    "    plt.xlabel('Iteration')\n",
    "    plt.ylabel('Objective Value')\n",
    "    plt.legend()\n",
    "    return"
   ]
  },
  {
   "cell_type": "code",
   "execution_count": 10,
   "metadata": {},
   "outputs": [
    {
     "data": {
      "image/png": "[encoded data removed]",
      "text/plain": [
       "<Figure size 432x288 with 1 Axes>"
      ]
     },
     "metadata": {
      "needs_background": "light"
     },
     "output_type": "display_data"
    }
   ],
   "source": [
    "from sklearn.linear_model import LassoCV\n",
    "\n",
    "# Run cross-validation to find the optimal lamb\n",
    "reg = LassoCV(cv=5, random_state=0).fit(x_train, y_train)\n",
    "lamb_opt = 2 * reg.alpha_\n",
    "\n",
    "# Cyclic coordinate descent\n",
    "betas_cyclic = cycliccoorddescent(X=x_train, Y=y_train, beta_init=np.zeros(x_train.shape[1]),\n",
    "                                  lamb=lamb_opt, max_iter=1000)\n",
    "# Randomized coordinate descent\n",
    "betas_random = randcoorddescent(X=x_train, Y=y_train, beta_init=np.zeros(x_train.shape[1]),\n",
    "                                  lamb=lamb_opt, max_iter=1000)\n",
    "\n",
    "# Plot objective values\n",
    "plot_obj(x_train, y_train, betas_cyclic, betas_random, lamb_opt)"
   ]
  },
  {
   "cell_type": "markdown",
   "metadata": {},
   "source": [
    "Observation: The curve produced by cyclic coordinate descent is smoother than the curve produced by random coordinate descent."
   ]
  },
  {
   "cell_type": "markdown",
   "metadata": {},
   "source": [
    "- **Denote by $\\beta_T$ the final iterates of your coordinate descent algorithms for that value of $\\lambda$. Compute $\\beta^*$ found by `scikit-learn` for that value of $\\lambda$. Plot the curves of the fraction of correct non-zero coefficients (with respect to $\\beta^*$) for both algorithms versus the iteration counter `iter` (use different colors). What do you observe? Plot the curves of the fraction of correct zero coefficients for both algorithms (with respect to $\\beta^*$) versus the iteration counter `iter` (use different colors). What do you observe?**"
   ]
  },
  {
   "cell_type": "code",
   "execution_count": 11,
   "metadata": {},
   "outputs": [],
   "source": [
    "def plot_coef(X, betas1, betas2, beta_skl):\n",
    "    d = X.shape[1]\n",
    "    nonzero1 = []\n",
    "    nonzero2 = []\n",
    "    zero1 = []\n",
    "    zero2 = []\n",
    "    for iter in range(0, len(betas1), d):\n",
    "        beta = betas1[iter]\n",
    "        nonzero1.append(np.mean(beta_skl[beta!=0] != 0))\n",
    "        zero1.append(np.mean(beta_skl[beta==0] == 0))\n",
    "    for iter in range(0, len(betas2), d):\n",
    "        beta = betas2[iter]\n",
    "        nonzero2.append(np.mean(beta_skl[beta!=0] != 0))\n",
    "        zero2.append(np.mean(beta_skl[beta==0] == 0))\n",
    "    plt.figure()\n",
    "    plt.plot(nonzero1, label='Cyclic')\n",
    "    plt.plot(nonzero2, label='Random')\n",
    "    plt.title('Fraction of Correct Non-Zero Coefficients')\n",
    "    plt.xlabel('Iteration')\n",
    "    plt.ylabel('Fraction')\n",
    "    plt.legend(loc='lower right')\n",
    "    plt.figure()\n",
    "    plt.plot(zero1, label='Cyclic')\n",
    "    plt.plot(zero2, label='Random')\n",
    "    plt.title('Fraction of Correct Zero Coefficients')\n",
    "    plt.xlabel('Iteration')\n",
    "    plt.ylabel('Fraction')\n",
    "    plt.legend(loc='lower right')\n",
    "    return"
   ]
  },
  {
   "cell_type": "code",
   "execution_count": 12,
   "metadata": {},
   "outputs": [
    {
     "data": {
      "image/png": "[encoded data removed]",
      "text/plain": [
       "<Figure size 432x288 with 1 Axes>"
      ]
     },
     "metadata": {
      "needs_background": "light"
     },
     "output_type": "display_data"
    },
    {
     "data": {
      "image/png": "[encoded data removed]",
      "text/plain": [
       "<Figure size 432x288 with 1 Axes>"
      ]
     },
     "metadata": {
      "needs_background": "light"
     },
     "output_type": "display_data"
    }
   ],
   "source": [
    "# Plots\n",
    "beta_star = reg.coef_\n",
    "plot_coef(x_train, betas_cyclic, betas_random, beta_star)"
   ]
  },
  {
   "cell_type": "markdown",
   "metadata": {},
   "source": [
    "Observation: There is a increase in fraction of correct non-zero/zero coefficients by iterations. The increase from random coordinate descent is slower."
   ]
  },
  {
   "cell_type": "markdown",
   "metadata": {},
   "source": [
    "# Exercise 2\n",
    "\n",
    "**In this problem you will generate simulated data and then perform PCA on the data. You will use *your own normalized Oja algorithm* for PCA. Note that “first two principal component score vectors” refers to the results from projecting the original data to a two-dimensional space with PCA.**\n",
    "\n",
    "### (a)\n",
    "\n",
    "**Generate a simulated data set with 30 observations in each of three classes (i.e. 90 observations total), and 60 features. Hint: There are a number of functions in `numpy` that you can use to generate data. One example is the `numpy.random.normal()` function; `numpy.random.uniform()` is another option. Be sure to add a mean shift to the observations in each class so that there are three distinct classes.**"
   ]
  },
  {
   "cell_type": "code",
   "execution_count": 13,
   "metadata": {},
   "outputs": [],
   "source": [
    "import numpy as np\n",
    "\n",
    "np.random.seed(0)\n",
    "observations = np.random.normal(loc=0, scale=1, size=(90,60))\n",
    "observations[30:60,:] += 2\n",
    "observations[60:90,:] -= 2\n",
    "\n",
    "labels = np.ones([90,])\n",
    "labels[30:60,] = 2\n",
    "labels[60:90,] = 3"
   ]
  },
  {
   "cell_type": "markdown",
   "metadata": {},
   "source": [
    "### (b)\n",
    "\n",
    "**Run *your own normalized Oja algorithm* on the 90 observations. This algorithm was discussed in the week 8 lecture. Plot the first two principal component score vectors. Compare your results to the ones obtained with scikit-learn’s PCA algorithm. Use a different color to indicate the observations in each of the three classes. If the three classes appear separated in this plot, then you’re done. If not, then return to part (a) and modify the simulation so that there is greater separation between the three classes.**"
   ]
  },
  {
   "cell_type": "code",
   "execution_count": 14,
   "metadata": {},
   "outputs": [],
   "source": [
    "def oja(A, max_iter=1000):\n",
    "    n, d = A.shape\n",
    "    w = np.random.normal(size=(d,))\n",
    "    w /= np.linalg.norm(w)\n",
    "    t = 0\n",
    "    lamb = w.T.dot(A.dot(w))\n",
    "    # iterate for k = 0, ..., max_iter-1\n",
    "    while t < max_iter:\n",
    "        eta = 0.1\n",
    "        w = w + eta * A.dot(w) # update w\n",
    "        w /= np.linalg.norm(w) # update top eigenvector\n",
    "        lamb = w.T.dot(A.dot(w)) # update top eigenvalue\n",
    "        t += 1\n",
    "    return lamb, w\n",
    "\n",
    "def mu(A):\n",
    "    return np.mean(A, axis=0)\n",
    "\n",
    "def covariance(A):\n",
    "    n, d = A.shape\n",
    "    mu_x = mu(A)\n",
    "    z = A - mu_x[np.newaxis, :]\n",
    "    cov = z.T.dot(z) / n\n",
    "    return cov"
   ]
  },
  {
   "cell_type": "code",
   "execution_count": 15,
   "metadata": {},
   "outputs": [
    {
     "name": "stdout",
     "output_type": "stream",
     "text": [
      "Eigenvalue = 158.261651\n",
      "The first principal component:\n",
      " [0.1297775  0.1191286  0.12845199 0.13612468 0.13721485 0.12203568\n",
      " 0.11837849 0.13824703 0.11801335 0.13929057 0.12651902 0.1269919\n",
      " 0.11887687 0.12844037 0.12214777 0.14078031 0.1222468  0.1399122\n",
      " 0.13038394 0.11598612 0.12020604 0.12869044 0.14948367 0.12707938\n",
      " 0.12508135 0.11570237 0.12163758 0.14138264 0.11915887 0.14456968\n",
      " 0.12906176 0.12484713 0.12787161 0.13177457 0.12913919 0.13079662\n",
      " 0.13351546 0.12936292 0.11734001 0.1361329  0.1222923  0.12862486\n",
      " 0.10589909 0.13299072 0.13165329 0.13251305 0.12476089 0.12379886\n",
      " 0.13125639 0.13235677 0.14323789 0.1337259  0.13161948 0.1324931\n",
      " 0.1359337  0.11997453 0.13811305 0.12975282 0.12912649 0.1288156 ]\n",
      "\n",
      "Eigenvalue = 2.860525\n",
      "The second principal component:\n",
      " [-0.15794765 -0.04313139  0.00830847  0.01871303  0.03521937  0.15733308\n",
      " -0.18909483  0.17316047  0.28985044  0.08006187  0.06391626  0.00967291\n",
      "  0.13361478  0.02539325  0.06829625  0.07952021  0.01212919 -0.08650575\n",
      " -0.13569192 -0.20725451  0.15071813 -0.07501947 -0.17873773 -0.04115204\n",
      " -0.03722114  0.13587955 -0.07606485  0.29507052 -0.05818487 -0.07566002\n",
      "  0.00542026 -0.12110016 -0.06223606  0.18753671  0.0149011  -0.15122707\n",
      " -0.07226998 -0.20943527 -0.11194544 -0.00443167  0.01959973  0.11070956\n",
      "  0.15719287 -0.02959155  0.09558844 -0.23936009  0.03074681  0.09420278\n",
      "  0.25197043  0.07159804  0.2326187  -0.07133593  0.04279012  0.04478094\n",
      " -0.10107103 -0.02423484 -0.02449524 -0.05949993 -0.28411898 -0.15458202]\n"
     ]
    }
   ],
   "source": [
    "# Find the number of observations and the number of dimensions\n",
    "n, d = observations.shape\n",
    "\n",
    "# The first principal component\n",
    "cov = covariance(observations)\n",
    "lamb1, v1 = oja(cov)\n",
    "\n",
    "# The k-th principal component vector maximize the variance of projection of x\n",
    "project = observations - observations.dot(v1.reshape(d,1)).dot(v1.reshape(d,1).T)\n",
    "cov = covariance(project)\n",
    "lamb2, v2 = oja(cov)\n",
    "\n",
    "print(\"Eigenvalue = %f\\nThe first principal component:\\n\" % lamb1, v1)\n",
    "print(\"\\nEigenvalue = %f\\nThe second principal component:\\n\" % lamb2, v2)"
   ]
  },
  {
   "cell_type": "code",
   "execution_count": 16,
   "metadata": {},
   "outputs": [
    {
     "data": {
      "image/png": "[encoded data removed]",
      "text/plain": [
       "<Figure size 576x360 with 1 Axes>"
      ]
     },
     "metadata": {
      "needs_background": "light"
     },
     "output_type": "display_data"
    }
   ],
   "source": [
    "# Plot the first two principal component score vectors\n",
    "import matplotlib.pyplot as plt\n",
    "\n",
    "center = observations - mu(observations)\n",
    "score = center.dot(np.array([v1,v2]).T)\n",
    "\n",
    "fig, ax = plt.subplots(figsize=(8,5))\n",
    "colors = {1:'red', 2:'green', 3:'blue'}\n",
    "for c in colors:\n",
    "    idx = np.where(labels == c)\n",
    "    plot = ax.scatter(score[idx,0], score[idx,1], c=colors[c], label=c, s=50, alpha=.5)\n",
    "plot = ax.legend()\n",
    "plot = plt.xlim(-25, 25)\n",
    "plot = plt.ylim(-5, 5)\n",
    "plot = plt.xlabel(\"1st Principal Component\", fontsize=12)\n",
    "plot = plt.ylabel(\"2nd Principal Component\", fontsize=12)\n",
    "plot = plt.title(\"First 2 Principal Component Score\", fontsize=14)\n",
    "plt.show()"
   ]
  },
  {
   "cell_type": "code",
   "execution_count": 17,
   "metadata": {},
   "outputs": [
    {
     "name": "stdout",
     "output_type": "stream",
     "text": [
      "Eigenvalue = 160.039872\n",
      "The first principal component:\n",
      " [0.1297775  0.1191286  0.12845199 0.13612468 0.13721485 0.12203568\n",
      " 0.11837849 0.13824703 0.11801335 0.13929057 0.12651902 0.1269919\n",
      " 0.11887687 0.12844037 0.12214777 0.14078031 0.1222468  0.1399122\n",
      " 0.13038394 0.11598612 0.12020604 0.12869044 0.14948367 0.12707938\n",
      " 0.12508135 0.11570237 0.12163758 0.14138264 0.11915887 0.14456968\n",
      " 0.12906176 0.12484713 0.12787161 0.13177457 0.12913919 0.13079662\n",
      " 0.13351546 0.12936292 0.11734001 0.1361329  0.1222923  0.12862486\n",
      " 0.10589909 0.13299072 0.13165329 0.13251305 0.12476089 0.12379886\n",
      " 0.13125639 0.13235677 0.14323789 0.1337259  0.13161948 0.1324931\n",
      " 0.1359337  0.11997453 0.13811305 0.12975282 0.12912649 0.1288156 ]\n",
      "\n",
      "Eigenvalue = 2.892666\n",
      "The second principal component:\n",
      " [-0.15794762 -0.04313137  0.00830844  0.0187132   0.03521939  0.15733314\n",
      " -0.18909466  0.17316044  0.28985049  0.08006189  0.06391638  0.00967284\n",
      "  0.13361515  0.0253934   0.0682962   0.07952053  0.01212931 -0.08650576\n",
      " -0.13569195 -0.20725445  0.15071762 -0.07501953 -0.17873789 -0.04115216\n",
      " -0.03722122  0.13587952 -0.076065    0.29507058 -0.05818481 -0.07566\n",
      "  0.00542036 -0.12110015 -0.06223622  0.18753646  0.01490068 -0.15122732\n",
      " -0.07227005 -0.2094354  -0.11194548 -0.00443126  0.01959964  0.11070934\n",
      "  0.15719286 -0.02959132  0.09558833 -0.2393601   0.03074674  0.0942029\n",
      "  0.25197039  0.07159812  0.23261864 -0.07133577  0.04279029  0.04478093\n",
      " -0.10107107 -0.02423474 -0.02449516 -0.05949981 -0.28411891 -0.15458214]\n"
     ]
    }
   ],
   "source": [
    "# Use PCA algorithm from sklearn\n",
    "from sklearn.decomposition import PCA\n",
    "\n",
    "pca = PCA(n_components=60)\n",
    "pca = pca.fit(observations)\n",
    "print(\"Eigenvalue = %f\\nThe first principal component:\\n\" % pca.explained_variance_[0],pca.components_[0])\n",
    "print(\"\\nEigenvalue = %f\\nThe second principal component:\\n\" % pca.explained_variance_[1],pca.components_[1])"
   ]
  },
  {
   "cell_type": "markdown",
   "metadata": {},
   "source": [
    "# Exercise 3\n",
    "**In this exercise, we will generate simulated data, and will then use this data to fit a lasso model. You should use Scikit-learn in this exercise for fitting the lasso model and performing cross-validation.**\n",
    "\n",
    "### (a)\n",
    "**Use the `numpy.random.normal()` function to generate a predictor X of length n = 100, as well as a noise vector $\\epsilon$ of length n = 100.**"
   ]
  },
  {
   "cell_type": "code",
   "execution_count": 160,
   "metadata": {},
   "outputs": [
    {
     "name": "stdout",
     "output_type": "stream",
     "text": [
      "Predictor X =\n",
      " [4.52009609 4.5838549  4.95791963 4.02392153 5.06320763 5.94602929\n",
      " 3.35603735 5.59895673 3.19866716 3.45154939 5.45217514 4.64057387\n",
      " 5.37044757 5.41741896 5.49003882 6.62582619 4.25870692 5.14764638\n",
      " 7.17543713 5.26513647 5.84332537 3.75074656 5.09349747 6.50499995\n",
      " 6.52776624 5.408234   4.09344499 4.40959041 6.34175642 5.3184496\n",
      " 3.46029689 5.70039627 5.56816313 5.63993769 6.01821134 4.41053065\n",
      " 5.21351311 4.32944831 4.70024325 5.58329486 3.78650375 4.42393736\n",
      " 5.71474812 5.50893629 6.38736339 4.43551168 5.2992626  5.14677126\n",
      " 6.04273157 4.97714151 5.09060346 4.02420385 5.09115524 5.13448158\n",
      " 4.9608652  5.02422483 4.98051874 6.09536671 5.21294054 6.8702194\n",
      " 5.41600566 3.11001653 5.3620967  4.95808363 5.70543846 5.17986131\n",
      " 4.42315544 5.33512388 3.70308903 6.84511655 5.43765826 5.79378718\n",
      " 6.58199215 5.32743219 5.63397907 4.26846379 8.03192968 4.07826883\n",
      " 4.93960517 3.52759145 4.99737172 3.91339292 5.04208743 6.14918491\n",
      " 6.62777748 4.92834334 5.85366568 7.22733521 2.91876607 3.85881487\n",
      " 6.05729681 4.96478034 6.4343345  5.52587809 4.0315023  5.97462429\n",
      " 4.98944051 4.63748984 7.12812255 6.59694941]\n",
      "\n",
      "Noise epsilon =\n",
      " [ 1.03312748e-01  3.39070123e-02  2.57902749e-02 -1.51454461e-01\n",
      "  2.35678200e-02  3.08337469e-04 -3.12770370e-02 -5.54645395e-02\n",
      "  1.25671108e-01 -5.37602143e-03  3.33858828e-02 -2.95601152e-02\n",
      " -1.40599595e-02 -3.09119981e-01  1.44141849e-01  5.99815108e-02\n",
      "  4.32382157e-02  4.67626576e-02 -1.44176205e-01  4.77576784e-02\n",
      "  6.30105355e-02  2.11858283e-01 -1.14283589e-01  6.17400139e-03\n",
      "  8.42075656e-03  9.34774062e-02  6.70463908e-03  3.08179861e-02\n",
      "  1.34797193e-02 -3.14021525e-02 -1.79157310e-02  3.60822809e-05\n",
      " -2.99333207e-02 -1.86955227e-01  1.24824333e-01  1.38818421e-01\n",
      "  4.19566987e-02 -2.18485050e-02 -9.77655238e-03  1.96033995e-01\n",
      "  9.27425348e-02 -4.46067301e-02 -7.96054850e-02  1.04685780e-01\n",
      " -4.80195561e-02  1.07171939e-01 -1.71045892e-02  7.31303464e-02\n",
      "  1.62441186e-01 -3.61973384e-02  8.27211415e-02 -1.53992325e-02\n",
      " -1.30876030e-02  9.29342445e-04  1.96120210e-01  4.65822958e-02\n",
      " -2.20481787e-02 -1.49796632e-01 -4.66163028e-03 -1.11883917e-03\n",
      "  4.65799964e-02 -5.93168732e-02 -3.06611957e-02  5.72343416e-02\n",
      " -7.56525607e-02 -5.34836565e-02  8.54100121e-02 -1.41292703e-01\n",
      "  2.32836343e-01 -5.28348218e-02  1.37608373e-01  2.86361982e-02\n",
      " -3.35119962e-01  7.17224970e-02  1.25076586e-01 -2.07392533e-01\n",
      " -2.47534541e-02  1.07500718e-02 -4.03030737e-02  1.27585346e-01\n",
      " -5.82970325e-02  1.65054727e-01  5.88617979e-02  5.93674625e-02\n",
      " -8.87122646e-02 -2.77925048e-02 -5.59792500e-02 -1.66051024e-03\n",
      "  1.56987992e-01 -2.78403977e-02  3.14842452e-02 -6.57739214e-02\n",
      "  1.12723236e-02  3.65655982e-02 -4.50256220e-02 -4.44408466e-02\n",
      " -3.75325198e-02  5.09811727e-02  1.17372710e-01 -8.06567007e-03]\n"
     ]
    }
   ],
   "source": [
    "X = np.random.normal(loc=5, scale=1, size=100)\n",
    "eps = np.random.normal(loc=0, scale=0.1, size=100)\n",
    "print('Predictor X =\\n', X)\n",
    "print('\\nNoise epsilon =\\n', eps)"
   ]
  },
  {
   "cell_type": "markdown",
   "metadata": {},
   "source": [
    "### (b)\n",
    "**(b) Generate a response vector Y of length n = 100 according to the model**\n",
    "\n",
    "$$Y = \\beta_0 + \\beta_1X + \\beta_2X^2  + \\beta_3X^3 + \\epsilon,$$\n",
    "**where $\\beta_0$, $\\beta_1$, $\\beta_2$, and $\\beta_3$ are constants of your choice. Here superscripts denote powers of $X$.**"
   ]
  },
  {
   "cell_type": "code",
   "execution_count": 161,
   "metadata": {},
   "outputs": [
    {
     "name": "stdout",
     "output_type": "stream",
     "text": [
      "Response Y =\n",
      " [ 5.21469943  5.26224575  5.98796894  4.12552803  6.20754741  8.33134438\n",
      "  3.31535158  7.36785433  3.28186085  3.4619101   7.09818607  5.30476436\n",
      "  6.85743842  6.67292841  7.3000197  10.42959415  4.69872549  6.41364226\n",
      " 12.14723132  6.6767092   8.11646052  4.08323009  6.13478739  9.98700885\n",
      " 10.06160973  7.05379254  4.39280923  4.94490259  9.48757595  6.71942503\n",
      "  3.46061725  7.67981194  7.31694833  7.33910654  8.65557469  5.05455325\n",
      "  6.55466113  4.75335109  5.43805036  7.58039452  4.01515885  4.89471136\n",
      "  7.63703647  7.30638346  9.56553181  5.06692961  6.68964591  6.43809118\n",
      "  8.76191213  5.96596157  6.32554806  4.26202144  6.23092942  6.33899575\n",
      "  6.1644107   6.14763664  5.98715867  8.59870524  6.50676316 11.19146539\n",
      "  7.02528058  2.99402764  6.82133674  6.01975316  7.61705881  6.38437\n",
      "  5.02334993  6.64803567  4.03710899 11.05292334  7.16774622  7.95092296\n",
      "  9.89208531  6.84326785  7.63612706  4.46444689 15.7994303   4.37282516\n",
      "  5.88399411  3.69376009  5.98618573  4.27354203  6.197796    8.96240269\n",
      " 10.28727603  5.8733129   8.02507175 12.48465748  2.99887375  3.99966153\n",
      "  8.67198782  5.91064844  9.77016015  7.279548    4.24373664  8.36525262\n",
      "  5.99032709  5.37949529 12.23315212 10.26755712]\n"
     ]
    }
   ],
   "source": [
    "beta0 = 0.8\n",
    "beta1 = 0.5\n",
    "beta2 = 0.01\n",
    "beta3 = 0.02\n",
    "Y = beta0 + beta1 * X + beta2 * X**2 + beta3 * X ** 3 + eps\n",
    "print('Response Y =\\n', Y)"
   ]
  },
  {
   "cell_type": "markdown",
   "metadata": {},
   "source": [
    "### (c)\n",
    "**Now fit a lasso model to the simulated data, using $X$, $X^2$, . . . , $X^{10}$ as predictors. Use cross-validation to select the optimal value of $\\lambda$. Create plots of the cross-validation error as a function of $\\lambda$. Report the resulting coefficient estimates, and discuss the results obtained.**"
   ]
  },
  {
   "cell_type": "code",
   "execution_count": 162,
   "metadata": {},
   "outputs": [
    {
     "name": "stdout",
     "output_type": "stream",
     "text": [
      "Lasso Model\n",
      "beta0 = 2.7380361903\n",
      "beta1 = 0.0000000000\n",
      "beta2 = 0.0000000000\n",
      "beta3 = 0.0000000000\n",
      "beta4 = 0.0076992843\n",
      "beta5 = -0.0002070214\n",
      "beta6 = -0.0000467183\n",
      "beta7 = -0.0000027200\n",
      "beta8 = -0.0000000608\n",
      "beta9 = 0.0000000179\n",
      "beta10 = 0.0000000044\n",
      "\n",
      "Optimal value of lambda: 230838.8314907775\n",
      "Accuray score: 0.9027246303\n"
     ]
    },
    {
     "data": {
      "image/png": "[encoded data removed]",
      "text/plain": [
       "<Figure size 432x288 with 1 Axes>"
      ]
     },
     "metadata": {
      "needs_background": "light"
     },
     "output_type": "display_data"
    }
   ],
   "source": [
    "from sklearn.linear_model import Lasso\n",
    "from sklearn.linear_model import LassoCV\n",
    "\n",
    "x = np.array([X**i for i in range(1,11)]).T\n",
    "\n",
    "# Fit a lasso model\n",
    "model = Lasso().fit(x, Y)\n",
    "intercept = model.intercept_\n",
    "betas = model.coef_\n",
    "print('Lasso Model\\nbeta0 = %.10f' % intercept)\n",
    "for i in range(len(betas)):\n",
    "    print('beta%d = %.10f'% (i+1, betas[i]))\n",
    "\n",
    "# Run cross-validation to find the optimal lamb\n",
    "model = LassoCV().fit(x, Y)\n",
    "lamb_opt = model.alpha_\n",
    "print('\\nOptimal value of lambda: %.10f' % lamb_opt)\n",
    "score = model.score(x, Y)\n",
    "print('Accuray score: %.10f' % score)\n",
    "lambs = model.alphas_\n",
    "mse = model.mse_path_\n",
    "\n",
    "\n",
    "# Cross-validation error plot\n",
    "plot = plt.figure()\n",
    "plot = plt.plot(lambs, mse)\n",
    "plot = plt.title('Cross-Validation Error vs Lambda')\n",
    "plot = plt.xlabel('Lambda')\n",
    "plot = plt.ylabel('Cross-Validation Error')"
   ]
  },
  {
   "cell_type": "markdown",
   "metadata": {},
   "source": [
    "### (d)\n",
    "**Now generate a response vector $Y$ according to the model**\n",
    "$$Y = \\beta_0 + \\beta_7X^7 + \\epsilon,$$\n",
    "**and fit a lasso model. Discuss the results obtained.**"
   ]
  },
  {
   "cell_type": "code",
   "execution_count": 163,
   "metadata": {},
   "outputs": [
    {
     "name": "stdout",
     "output_type": "stream",
     "text": [
      "Response Y =\n",
      " [ 2.73648889  2.65628074  2.56353023  2.54011705  2.52956737  2.02357552\n",
      "  2.69371656  2.21340603  2.8543885   2.71678658  2.38187048  2.58241581\n",
      "  2.3735071   2.05641871  2.47329009  1.27306394  2.71216762  2.52428109\n",
      " -0.07002178  2.48069273  2.1683481   2.9214891   2.38182297  1.40358466\n",
      "  1.37264098  2.46341453  2.69235677  2.68067538  1.62938558  2.37923927\n",
      "  2.70396312  2.20607215  2.25670443  2.05734298  2.08509544  2.78854412\n",
      "  2.49522587  2.63863367  2.59040584  2.47401456  2.80042268  2.60322268\n",
      "  2.11698358  2.42387956  1.51016398  2.75333627  2.40171572  2.55095864\n",
      "  2.10025716  2.49604314  2.57978828  2.67614946  2.48379664  2.48307595\n",
      "  2.73302569  2.5648022   2.50921281  1.7379335   2.44882639  0.77188074\n",
      "  2.4127984   2.67106484  2.36070289  2.59492792  2.12708075  2.41240568\n",
      "  2.73335097  2.2620957   2.94489933  0.76987701  2.49329573  2.17057918\n",
      "  0.94719598  2.47847358  2.37301469  2.46042094 -3.15236101  2.69774665\n",
      "  2.50255908  2.84713207  2.46801618  2.86485684  2.57155243  1.89313127\n",
      "  1.12122371  2.51816327  2.04147926 -0.06533824  2.89011543  2.67554174\n",
      "  1.95570039  2.47001779  1.507365    2.34665921  2.64592967  1.95441467\n",
      "  2.49112167  2.66354236  0.31208013  1.25093543]\n",
      "\n",
      "Lasso Model\n",
      "beta0 = 2.7894766738\n",
      "beta1 = -0.0000000000\n",
      "beta2 = -0.0000000000\n",
      "beta3 = -0.0000000000\n",
      "beta4 = -0.0000000000\n",
      "beta5 = 0.0000000000\n",
      "beta6 = -0.0000104029\n",
      "beta7 = -0.0000007065\n",
      "beta8 = -0.0000000564\n",
      "beta9 = -0.0000000038\n",
      "beta10 = -0.0000000001\n",
      "\n",
      "Accuray score: 0.9862189069\n"
     ]
    }
   ],
   "source": [
    "Y = intercept + betas[6] * X ** 7 + eps\n",
    "print('Response Y =\\n', Y)\n",
    "\n",
    "# Fit a lasso model\n",
    "model = Lasso().fit(x, Y)\n",
    "intercept = model.intercept_\n",
    "betas = model.coef_\n",
    "print('\\nLasso Model\\nbeta0 = %.10f' % intercept)\n",
    "for i in range(len(betas)):\n",
    "    print('beta%d = %.10f'% (i+1, betas[i]))\n",
    "score = model.score(x, Y)\n",
    "print('\\nAccuray score: %.10f' % score)"
   ]
  },
  {
   "cell_type": "markdown",
   "metadata": {},
   "source": [
    "# Data Competition Project\n",
    "\n",
    "**Read the announcement \"Data Competition 2\" on Canvas. Convert each image into a feature vector using the provided extract features.py script. We strongly recommend you perform this task on AWS.**\n",
    "\n",
    "- **Pick two classes of your choice from the dataset. Train an $l_2$-regularized logistic regression classifier on the training set using your own fast gradient algorithm with $\\lambda$ = 1. Plot, with different colors, the *misclassification error* on the training set and on the validation set vs iterations.**"
   ]
  },
  {
   "cell_type": "code",
   "execution_count": 19,
   "metadata": {},
   "outputs": [
    {
     "name": "stdout",
     "output_type": "stream",
     "text": [
      "Training subset\n",
      "Number of observations: 1000\n",
      "Number of dimension: 4096\n",
      "\n",
      "Training set\n",
      "Number of observations: 50000\n",
      "Number of dimension: 4096\n",
      "\n",
      "Validation set\n",
      "Number of observations: 10000\n",
      "Number of dimension: 4096\n"
     ]
    }
   ],
   "source": [
    "import sklearn.preprocessing\n",
    "\n",
    "# Load data\n",
    "x_train = np.load('train_features.npy')\n",
    "y_train = np.load('train_labels.npy')\n",
    "x_val = np.load('val_features.npy')\n",
    "y_val = np.load('val_labels.npy')\n",
    "\n",
    "# Subset training data: classes 0 and 1\n",
    "class1 = 0\n",
    "class2 = 1\n",
    "xtrain = x_train\n",
    "ytrain = y_train\n",
    "idx_train = np.array([np.where(ytrain==class1),np.where(ytrain==class2)]).reshape(-1)\n",
    "xtrain = xtrain[idx_train]\n",
    "ytrain = ytrain[idx_train]\n",
    "\n",
    "# Standardize the data\n",
    "scaler = sklearn.preprocessing.StandardScaler()\n",
    "scaler = scaler.fit(np.array(xtrain))\n",
    "xtrain = scaler.transform(xtrain).T\n",
    "scaler = scaler.fit(np.array(x_train))\n",
    "x_train = scaler.transform(x_train).T\n",
    "scaler = scaler.fit(np.array(x_val))\n",
    "x_val = scaler.transform(x_val).T\n",
    "ytrain = ytrain.T\n",
    "y_train = y_train.T\n",
    "y_val = y_val.T\n",
    "\n",
    "# Change label to +/- 1\n",
    "ytrain[ytrain!=class2] = -1\n",
    "\n",
    "print('Training subset')\n",
    "print('Number of observations: %d' % xtrain.shape[1])\n",
    "print('Number of dimension: %d' % xtrain.shape[0])\n",
    "print('\\nTraining set')\n",
    "print('Number of observations: %d' % x_train.shape[1])\n",
    "print('Number of dimension: %d' % x_train.shape[0])\n",
    "print('\\nValidation set')\n",
    "print('Number of observations: %d' % x_val.shape[1])\n",
    "print('Number of dimension: %d' % x_val.shape[0])"
   ]
  },
  {
   "cell_type": "code",
   "execution_count": 20,
   "metadata": {},
   "outputs": [],
   "source": [
    "# Define functions\n",
    "def computegrad(X, Y, beta, lamb):\n",
    "    n = X.shape[1]\n",
    "    p = np.exp(np.multiply(-Y.T,X.T.dot(beta)))/(1+np.exp(np.multiply(-Y.T,X.T.dot(beta))))\n",
    "    p = np.diag(p)\n",
    "    return -1/n*X.dot(p).dot(Y)+2*lamb*beta\n",
    "\n",
    "def obj(X, Y, beta, lamb):\n",
    "    n = X.shape[1]\n",
    "    return 1/n*np.sum(np.log(1+np.exp(np.multiply(-Y.T,X.T.dot(beta))))) + lamb*np.linalg.norm(beta)**2\n",
    "\n",
    "def backtracking(X, Y, beta, grad, init_eta, lamb, max_itr=10):\n",
    "    norm_grad = np.linalg.norm(grad)\n",
    "    eta = init_eta\n",
    "    itr = 0\n",
    "    while itr < max_itr:     \n",
    "        if obj(X, Y, beta-eta*grad, lamb) <= (obj(X, Y, beta, lamb)-0.5*eta*norm_grad**2):\n",
    "            break\n",
    "        else:\n",
    "            eta = 0.8 * eta\n",
    "        itr += 1\n",
    "    return eta\n",
    "\n",
    "def initEta(X, lamb):\n",
    "    n = X.shape[1]\n",
    "    return 1/(max(np.linalg.eigvals(1/n*X.dot(X.T)))+lamb)\n",
    "\n",
    "def fastgradalgo(X, Y, init, lamb, eps, max_iter=1000):\n",
    "    beta = init\n",
    "    theta = init\n",
    "    # initial step-size value\n",
    "    eta = initEta(X, lamb)\n",
    "    grad = computegrad(X, Y, theta, lamb)\n",
    "    vals = [beta]\n",
    "    t = 0\n",
    "    # The stopping criterion is norm(grad) <= eps\n",
    "    while (np.linalg.norm(grad) > eps and t < max_iter):\n",
    "        eta = backtracking(X, Y, beta, grad, eta, lamb)\n",
    "        temp = beta\n",
    "        beta = theta - eta * grad\n",
    "        theta = beta + t/(t+3)*(beta-temp)\n",
    "        vals.append(beta)\n",
    "        grad = computegrad(X, Y, theta, lamb)\n",
    "        t += 1\n",
    "    return np.array(vals)\n",
    "\n",
    "def predict(X, beta, cls1, cls2, threshold=0.5):\n",
    "    pred = 1/(1+np.exp(-X.T.dot(beta))) > threshold # logistic function\n",
    "    pred = pred.astype(int) # True 1 False 0\n",
    "    pred[pred==0] = cls1\n",
    "    pred[pred==1] = cls2\n",
    "    return pred.T\n",
    "\n",
    "def compME(X, Y, beta):\n",
    "    pred = predict(X, beta, class1, class2)\n",
    "    err = np.mean(pred != Y)\n",
    "    return err\n",
    "\n",
    "def ME_plot(X1, Y1, X2, Y2, vals):\n",
    "    me1 = []\n",
    "    me2 = []\n",
    "    for val in vals:\n",
    "        me1.append(compME(X=X1, Y=Y1, beta=val))\n",
    "        me2.append(compME(X=X2, Y=Y2, beta=val))\n",
    "    \n",
    "    plt.figure()\n",
    "    plt.plot(me1, label='Training Set')\n",
    "    plt.plot(me2, label='Validation Set')\n",
    "    plt.xlabel('Number of Iterations')\n",
    "    plt.ylabel('Misclassification Error')\n",
    "    plt.title('Misclassification Error', fontsize=13)\n",
    "    plt.legend()\n",
    "    plt.show()\n",
    "    return"
   ]
  },
  {
   "cell_type": "code",
   "execution_count": 21,
   "metadata": {},
   "outputs": [
    {
     "data": {
      "image/png": "[encoded data removed]",
      "text/plain": [
       "<Figure size 432x288 with 1 Axes>"
      ]
     },
     "metadata": {
      "needs_background": "light"
     },
     "output_type": "display_data"
    }
   ],
   "source": [
    "# Run fast gradient algorithm\n",
    "vals_fg = fastgradalgo(X=xtrain, Y=ytrain, init=np.zeros([xtrain.shape[0],]), lamb=1, eps=0.0001)\n",
    "\n",
    "# Plot misclassification error\n",
    "ME_plot(X1=x_train, Y1=y_train, X2=x_val, Y2=y_val, vals=vals_fg)"
   ]
  },
  {
   "cell_type": "markdown",
   "metadata": {},
   "source": [
    "- **Find the value of the regularization parameter $\\lambda$ using cross-validation; you may use scikit-learn’s built-in functions for this purpose. Train an $l_2$-regularized logistic regression classifier on the training set using your own fast gradient algorithm with that value of $\\lambda$ found by cross-validation. Plot, with different colors, the *misclassification error* on the training set and on the validation set vs iterations.**"
   ]
  },
  {
   "cell_type": "code",
   "execution_count": 24,
   "metadata": {},
   "outputs": [
    {
     "name": "stdout",
     "output_type": "stream",
     "text": [
      "The optimal lambda is 0.0021406662\n"
     ]
    },
    {
     "data": {
      "image/png": "[encoded data removed]",
      "text/plain": [
       "<Figure size 432x288 with 1 Axes>"
      ]
     },
     "metadata": {
      "needs_background": "light"
     },
     "output_type": "display_data"
    }
   ],
   "source": [
    "from sklearn.linear_model import LogisticRegressionCV\n",
    "\n",
    "# Find optimal regularization parameter lamb_opt\n",
    "clf = LogisticRegressionCV(Cs=20).fit(xtrain.T, ytrain)\n",
    "n = xtrain.shape[1]\n",
    "lamb_opt = 1/ (2 * n * clf.C_)\n",
    "print('The optimal lambda is %.10f' % lamb_opt)\n",
    "\n",
    "# Run fast gradient algorithm\n",
    "vals_fg = fastgradalgo(X=xtrain, Y=ytrain, init=np.zeros([xtrain.shape[0],]), lamb=lamb_opt, eps=0.0001)\n",
    "\n",
    "# Plot misclassification error\n",
    "ME_plot(X1=x_train, Y1=y_train, X2=x_val, Y2=y_val, vals=vals_fg)"
   ]
  },
  {
   "cell_type": "code",
   "execution_count": 25,
   "metadata": {},
   "outputs": [
    {
     "data": {
      "text/plain": [
       "0.0198"
      ]
     },
     "execution_count": 25,
     "metadata": {},
     "output_type": "execute_result"
    }
   ],
   "source": [
    "# temp score for validation\n",
    "pred = predict(x_val, vals_fg[-1], 0, 1)\n",
    "np.mean(pred==y_val)"
   ]
  },
  {
   "cell_type": "code",
   "execution_count": null,
   "metadata": {},
   "outputs": [],
   "source": [
    "# Load and standardize test set \n",
    "x_test = np.load('test_features.npy')\n",
    "scaler = sklearn.preprocessing.StandardScaler()\n",
    "scaler = scaler.fit(x_test)\n",
    "x_test = scaler.transform(x_test).T\n",
    "\n",
    "# Predict\n",
    "pred = predict(x_test, vals_fg[-1], 0, 1)\n",
    "pred = pred.reshape(-1)\n",
    "\n",
    "# Write to submission.csv\n",
    "df = pd.read_csv('sample_submission.csv')\n",
    "df['Category'] = pred\n",
    "df.to_csv('submission.csv',index=False)"
   ]
  },
  {
   "cell_type": "code",
   "execution_count": null,
   "metadata": {},
   "outputs": [],
   "source": []
  }
 ],
 "metadata": {
  "kernelspec": {
   "display_name": "Python 3",
   "language": "python",
   "name": "python3"
  },
  "language_info": {
   "codemirror_mode": {
    "name": "ipython",
    "version": 3
   },
   "file_extension": ".py",
   "mimetype": "text/x-python",
   "name": "python",
   "nbconvert_exporter": "python",
   "pygments_lexer": "ipython3",
   "version": "3.7.3"
  }
 },
 "nbformat": 4,
 "nbformat_minor": 2
}
