{
 "cells": [
  {
   "cell_type": "markdown",
   "metadata": {},
   "source": [
    "# <center> Data 558 Homework 3 </center>\n",
    "<center> Cathy Jia </center>\n",
    "<center> Due April 26, 2019 by 11:59pm </center>"
   ]
  },
  {
   "cell_type": "code",
   "execution_count": 1,
   "metadata": {},
   "outputs": [],
   "source": [
    "# Display all of the results.\n",
    "from IPython.core.interactiveshell import InteractiveShell\n",
    "InteractiveShell.ast_node_interactivity = \"all\"\n",
    "# Hide warnings\n",
    "import warnings\n",
    "warnings.filterwarnings('ignore')"
   ]
  },
  {
   "cell_type": "markdown",
   "metadata": {},
   "source": [
    "# Exercise 1\n",
    "**In this exercise, you will implement in Python a first version of your own fast gradient algorithm to solve the $l_2^2$-regularized logistic regression problem.**"
   ]
  },
  {
   "cell_type": "markdown",
   "metadata": {},
   "source": [
    "### 1.1 Fast Gradient\n",
    "**The fast gradient algorithm is outlined in Algorithm 1. The algorithm requires a subroutine that computes the gradient for any $\\beta$.**\n",
    "- **Assume that $d=1$ and $n=1$. The sample is then of size 1 and boils down to just $(x, y)$. The function $F$ writes simply as**\n",
    "\n",
    "    $$F(\\beta) = log(1 + exp(-yx\\beta))+\\lambda\\beta^2$$\n",
    "    \n",
    "    **Compute and write down the gradient $\\nabla F$ of $F$.**"
   ]
  },
  {
   "cell_type": "markdown",
   "metadata": {},
   "source": [
    "The gradient $\\nabla F$ of $F$ is\n",
    "\n",
    "$$\\nabla F$$\n",
    "\n",
    "$$= \\frac{\\delta}{\\delta\\beta} (log(1 + e^{-yx\\beta})) + \\frac{\\delta}{\\delta\\beta} \\lambda\\beta^2$$\n",
    "\n",
    "$$= \\frac{1}{1 + e^{-yx\\beta}} \\frac{\\delta}{\\delta\\beta} (1 + e^{-yx\\beta}) + 2\\lambda\\beta $$\n",
    "\n",
    "$$= \\frac{0+e^{-yx\\beta}}{1 + e^{-yx\\beta}} \\frac{\\delta}{\\delta\\beta} (-yx\\beta) + 2\\lambda\\beta $$\n",
    "\n",
    "$$= -yx\\frac{e^{-yx\\beta}}{1 + e^{-yx\\beta}} + 2\\lambda\\beta$$\n",
    "\n",
    "$$= \\frac{-xye^{-xy\\beta}}{1 + e^{-xy\\beta}} + 2\\lambda\\beta$$"
   ]
  },
  {
   "cell_type": "markdown",
   "metadata": {},
   "source": [
    "- **Assume now that $d > 1$ and $n > 1$. Using the previous result and the linearity of differentiation, compute and write down the gradient $\\nabla F(\\beta)$ of $F$.**"
   ]
  },
  {
   "cell_type": "markdown",
   "metadata": {},
   "source": [
    "We need to find the gradient $\\nabla F(\\beta)$ of\n",
    "\n",
    "$$F(\\beta) = \\frac{1}{n} \\sum _{i=1}^n log(1+exp(-y_i x_i^T \\beta))+\\lambda\\mid\\mid\\beta\\mid\\mid _2^2$$\n",
    "\n",
    "First, we write $F$ as\n",
    "\n",
    "$$F(\\beta) = A + B \\space, where$$\n",
    "\n",
    "$$A=\\frac{1}{n}\\sum_{i=1}^{n}log(1+exp(-y_i x_i^T \\beta))$$\n",
    "\n",
    "$$B=\\lambda\\mid\\mid\\beta\\mid\\mid _2^2$$\n",
    "\n",
    "So $\\nabla F(\\beta)$ can be written as\n",
    "\n",
    "$$\\nabla F(\\beta) = \\frac{\\delta A}{\\delta\\beta} + \\frac{\\delta B}{\\delta\\beta}$$\n",
    "\n",
    "We can first find $\\frac{\\delta A}{\\delta\\beta}$.\n",
    "\n",
    "Notice that $A$ can be break down for each $i = 1,2,...,n$ as\n",
    "\n",
    "$$f(g(h(\\beta))), \\space where$$\n",
    "\n",
    "$$h(\\beta) = -y_i x_i^T \\beta$$\n",
    "\n",
    "$$g(\\beta) = 1 + exp(h(\\beta))$$\n",
    "\n",
    "$$f = log(g(h(\\beta))$$\n",
    "\n",
    "So we apply Chain rule,\n",
    "\n",
    "$$\\frac{\\delta}{\\delta\\beta} log(1+exp(-y_i x_i^T \\beta))$$\n",
    "\n",
    "$$= \\frac{1}{1+exp(-y_i x_i^T \\beta)} \\frac{\\delta}{\\delta\\beta}(g)$$\n",
    "\n",
    "$$= \\frac{1}{1+exp(-y_i x_i^T \\beta)} (0 + exp(-y_i x_i^T \\beta)) \\frac{\\delta}{\\delta\\beta} (h)$$\n",
    "\n",
    "$$= \\frac{1}{1+exp(-y_i x_i^T \\beta)} (0 + exp(-y_i x_i^T \\beta)) (-y_i x_i)$$\n",
    "\n",
    "$$= -y_i x_i \\frac{e^{-y_i x_i^T \\beta}}{1+e^{-y_i x_i^T \\beta}}$$\n",
    "\n",
    "Define that\n",
    "\n",
    "$$ 1-p_i = \\frac{e^{-y_{i}x_{i}^{T}\\beta}}{1+e^{-y_{i}x_{i}^{T}\\beta}} \\space where \\space i = 1,2,...,n$$\n",
    "\n",
    "Then we have\n",
    "\n",
    "$$\\frac{\\delta}{\\delta\\beta} log(1+exp(-y_i x_i^T \\beta)) = -y_i x_i (1-p_i)$$\n",
    "\n",
    "Therefore, we substitue this into the summation in $A$.\n",
    "\n",
    "$$\\frac{\\delta A}{\\delta\\beta}\n",
    "= \\frac{\\delta}{\\delta\\beta} \\frac{1}{n}\\sum_{i=1}^{n}log(1+exp(-y_i x_i^T \\beta))\n",
    "= -\\frac{1}{n} xyp \\space where\\space p = diag([1-p_1, ..., 1-p_n])$$\n",
    "\n",
    "Then let's find $\\frac{\\delta B}{\\delta\\beta}$.\n",
    "\n",
    "Using the Hammer Identity, for any matrix $M$, $$\\frac{\\delta(X^T MX)}{\\delta X} = (M+M^T)X$$\n",
    "\n",
    "Then we get\n",
    "$$\\frac{\\delta B}{\\delta\\beta}\n",
    "= \\frac{\\delta(\\lambda\\mid\\mid \\beta \\mid\\mid_2^2)}{\\delta\\beta}\n",
    "= \\lambda\\frac{\\delta(\\mid\\mid \\beta \\mid\\mid_2^2)}{\\delta\\beta}\n",
    "= \\lambda\\frac{\\delta(\\beta^T \\beta)}{\\delta\\beta}\n",
    "= \\lambda(I + I^T)\\beta\n",
    "= 2\\lambda\\beta$$\n",
    "\n",
    "Therefore, the gradient $\\nabla F(\\beta)$ of $F$ is\n",
    "\n",
    "$$\\nabla F(\\beta) = \\frac{\\delta A}{\\delta\\beta} + \\frac{\\delta B}{\\delta\\beta} = -\\frac{1}{n}xyp+2\\lambda\\beta$$\n",
    "\n",
    "$$where\\space1-p_i = \\frac{e^{-y_{i}x_{i}^{T}\\beta}}{1+e^{-y_{i}x_{i}^{T}\\beta}} , i = 1,2,...,n\\space and\\space p = diag([1-p_1, ..., 1-p_n])$$"
   ]
  },
  {
   "cell_type": "markdown",
   "metadata": {},
   "source": [
    "- **Consider the Spam dataset from *The Elements of Statistical Learning* (You can get it here: https://web.stanford.edu/~hastie/ElemStatLearn/ ). Standardize the data (i.e., center the features and divide them by their standard deviation, and also change the output labels to +/- 1).**"
   ]
  },
  {
   "cell_type": "code",
   "execution_count": 2,
   "metadata": {},
   "outputs": [],
   "source": [
    "import pandas as pd\n",
    "import numpy as np\n",
    "from sklearn.model_selection import train_test_split\n",
    "from sklearn import preprocessing\n",
    "\n",
    "# Import data\n",
    "spam = pd.read_csv('spam.data', sep=' ', header=None)\n",
    "spam = spam.dropna()\n",
    "spam_x = spam.iloc[:,:57]\n",
    "spam_y = spam.iloc[:,57]\n",
    "x_train, x_test, y_train, y_test = train_test_split(spam_x, spam_y, random_state=0)\n",
    "\n",
    "# Standardize the data and change output labels to +/- 1\n",
    "x_train = preprocessing.scale(np.array(x_train)).T\n",
    "x_test = preprocessing.scale(np.array(x_test)).T\n",
    "y_train = np.array(y_train).T\n",
    "y_train[y_train!=1] = -1\n",
    "y_test = np.array(y_test).T\n",
    "y_test[y_test!=1] = -1"
   ]
  },
  {
   "cell_type": "markdown",
   "metadata": {},
   "source": [
    "- **Write a function `computegrad` that computes and returns $\\nabla F(\\beta)$ for any $\\beta$.**"
   ]
  },
  {
   "cell_type": "code",
   "execution_count": 3,
   "metadata": {},
   "outputs": [],
   "source": [
    "def computegrad(beta, lamb, X=x_train, Y=y_train):\n",
    "    n = X.shape[1]\n",
    "    p = np.exp(np.multiply(-Y.T,X.T.dot(beta)))/(1+np.exp(np.multiply(-Y.T,X.T.dot(beta))))\n",
    "    p = np.diag(p)\n",
    "    return -1/n*X.dot(p).dot(Y)+2*lamb*beta"
   ]
  },
  {
   "cell_type": "markdown",
   "metadata": {},
   "source": [
    "- **Write a function `backtracking` that implements the backtracking rule.**"
   ]
  },
  {
   "cell_type": "code",
   "execution_count": 4,
   "metadata": {},
   "outputs": [],
   "source": [
    "def obj(beta, lamb, X=x_train, Y=y_train):\n",
    "    n = X.shape[1]\n",
    "    return 1/n*np.sum(np.log(1+np.exp(np.multiply(-Y.T,X.T.dot(beta))))) + lamb*np.linalg.norm(beta)**2"
   ]
  },
  {
   "cell_type": "code",
   "execution_count": 5,
   "metadata": {},
   "outputs": [],
   "source": [
    "def backtracking(beta, grad, init_eta, lamb, max_itr=10):\n",
    "    norm_grad = np.linalg.norm(grad)\n",
    "    eta = init_eta\n",
    "    itr = 0\n",
    "    while itr < max_itr:     \n",
    "        if obj(beta-eta*grad, lamb) <= (obj(beta, lamb)-0.5*eta*norm_grad**2):\n",
    "            break\n",
    "        else:\n",
    "            eta = 0.8 * eta\n",
    "        itr += 1\n",
    "    return eta"
   ]
  },
  {
   "cell_type": "markdown",
   "metadata": {},
   "source": [
    "- **Write a function `graddescent` that implements the gradient descent algorithm with the backtracking rule to tune the step-size. The function `graddescent` calls `computegrad` and `backtracking` as subroutines. The function takes as input the initial point, the initial step-size value, and the target accuracy $\\epsilon$. The stopping criterion is $\\mid\\mid\\nabla F\\mid\\mid ≤ \\epsilon$.**"
   ]
  },
  {
   "cell_type": "code",
   "execution_count": 6,
   "metadata": {},
   "outputs": [],
   "source": [
    "def initEta(lamb, X=x_train):\n",
    "    n = X.shape[1]\n",
    "    return 1/(max(np.linalg.eigvals(1/n*X.dot(X.T)))+lamb)"
   ]
  },
  {
   "cell_type": "code",
   "execution_count": 7,
   "metadata": {},
   "outputs": [],
   "source": [
    "def graddescent(init, lamb, eps, X=x_train, Y=y_train, max_iter=1000):\n",
    "    beta = init\n",
    "    # initial step-size value\n",
    "    eta = initEta(lamb)\n",
    "    grad = computegrad(beta, lamb)\n",
    "    vals = [beta]\n",
    "    t = 0\n",
    "    # The stopping criterion is norm(grad) <= eps\n",
    "    while (np.linalg.norm(grad) > eps and t < max_iter):\n",
    "        eta = backtracking(beta, grad, eta, lamb)\n",
    "        beta = beta - eta * grad\n",
    "        vals.append(beta) # save beta\n",
    "        grad = computegrad(beta, lamb)\n",
    "        t += 1\n",
    "    return np.array(vals)"
   ]
  },
  {
   "cell_type": "markdown",
   "metadata": {},
   "source": [
    "- **Write a function `fastgradalgo` that implements the fast gradient algorithm described in Algorithm 1. The function `fastgradalgo` calls `computegrad` and `backtracking` as subroutines. The function takes as input the initial step-size value for the backtracking rule and the target accuracy $\\epsilon$. The stopping criterion is $\\mid\\mid\\nabla F\\mid\\mid ≤ \\epsilon$.**"
   ]
  },
  {
   "cell_type": "code",
   "execution_count": 8,
   "metadata": {},
   "outputs": [],
   "source": [
    "def fastgradalgo(init, lamb, eps, X=x_train, Y=y_train, max_iter=1000):\n",
    "    beta = init\n",
    "    theta = init\n",
    "    # initial step-size value\n",
    "    eta = initEta(lamb)\n",
    "    grad = computegrad(theta, lamb)\n",
    "    vals = [beta]\n",
    "    t = 0\n",
    "    # The stopping criterion is norm(grad) <= eps\n",
    "    while (np.linalg.norm(grad) > eps and t < max_iter):\n",
    "        eta = backtracking(beta, grad, eta, lamb)\n",
    "        temp = beta\n",
    "        beta = theta - eta * grad\n",
    "        theta = beta + t/(t+3)*(beta-temp)\n",
    "        vals.append(beta)\n",
    "        grad = computegrad(theta, lamb)\n",
    "        t += 1\n",
    "    return np.array(vals)"
   ]
  },
  {
   "cell_type": "markdown",
   "metadata": {},
   "source": [
    "- **Use the estimate described in the course to initialize the step-size. Set the target accuracy to $\\epsilon = 10^{-4}$. Run `graddescent` and `fastgradalgo` on the training set of the Spam dataset for $\\lambda = 0.1$. Plot the curve of the objective values $F(\\beta_t)$ for both algorithms versus the iteration counter $t$ (use different colors). What do you observe?**"
   ]
  },
  {
   "cell_type": "code",
   "execution_count": 9,
   "metadata": {},
   "outputs": [],
   "source": [
    "import matplotlib.pyplot as plt\n",
    "\n",
    "def obj_plot(vals1, vals2, lamb, both=True):\n",
    "    # Gradient descent\n",
    "    n = vals1.shape[0] # number of iterations\n",
    "    obj1 = np.zeros(n)\n",
    "    for i in range(n):\n",
    "        obj1[i] = obj(vals1[i],lamb)\n",
    "    # Fast gradient\n",
    "    n = vals2.shape[0] # number of iterations\n",
    "    obj2 = np.zeros(n)\n",
    "    for i in range(n):\n",
    "        obj2[i] = obj(vals2[i],lamb)\n",
    "    plt.figure()\n",
    "    if both == True:\n",
    "        plt.plot(obj1, label='Gradient Descent')\n",
    "    plt.plot(obj2, label='Fast Gradient')\n",
    "    plt.xlabel('Iteration')\n",
    "    plt.ylabel('Objective Value')\n",
    "    plt.title('Objective Value over Iterations', fontsize=16)\n",
    "    plt.legend()\n",
    "    plt.show()\n",
    "    return"
   ]
  },
  {
   "cell_type": "code",
   "execution_count": 10,
   "metadata": {},
   "outputs": [
    {
     "name": "stdout",
     "output_type": "stream",
     "text": [
      "Gradient descent: number of iterations = 151\n",
      "Fast gradient: number of iterations = 102\n"
     ]
    },
    {
     "data": {
      "image/png": "[encoded data removed]",
      "text/plain": [
       "<Figure size 432x288 with 1 Axes>"
      ]
     },
     "metadata": {
      "needs_background": "light"
     },
     "output_type": "display_data"
    }
   ],
   "source": [
    "vals_gd = graddescent(init=np.zeros([x_train.shape[0],]), lamb=0.1, eps=0.0001)\n",
    "vals_fg = fastgradalgo(init=np.zeros([x_train.shape[0],]), lamb=0.1, eps=0.0001)\n",
    "print(\"Gradient descent: number of iterations =\",vals_gd.shape[0])\n",
    "print(\"Fast gradient: number of iterations =\",vals_fg.shape[0])\n",
    "obj_plot(vals_gd, vals_fg, lamb=0.1)"
   ]
  },
  {
   "cell_type": "markdown",
   "metadata": {},
   "source": [
    "From the above plot, we can observe that fast gradient algorithm needs less iterations than gradient descent to find the $\\beta$ for objective solution to the optimization problem. Also, the fast gradient curve has a steeper decrease. This proves that the fast gradient method is accelerated in solving optimization functions."
   ]
  },
  {
   "cell_type": "markdown",
   "metadata": {},
   "source": [
    "- **Denote by $\\beta_T$ the final iterate of your fast gradient algorithm. Compare $\\beta_T$ to the $\\beta^*$ found by `scikit-learn`. Compare the objective value for $\\beta_T$ to the one for $\\beta^*$. What do you observe?**"
   ]
  },
  {
   "cell_type": "code",
   "execution_count": 11,
   "metadata": {},
   "outputs": [
    {
     "name": "stdout",
     "output_type": "stream",
     "text": [
      "beta_T =\n",
      "[ 0.02968388 -0.02226928  0.08667394  0.05881662  0.17540317  0.12131126\n",
      "  0.29466326  0.13224708  0.12260682  0.05079486  0.13950255 -0.03884705\n",
      "  0.05655072  0.03267421  0.10915882  0.19745738  0.15749808  0.11932577\n",
      "  0.11493903  0.12919757  0.2358194   0.10136383  0.25021251  0.15321802\n",
      " -0.14765056 -0.10449257 -0.12074601 -0.03509294 -0.05008703 -0.07532264\n",
      " -0.03266122 -0.01349971 -0.07907974 -0.01606714 -0.05663011 -0.00413653\n",
      " -0.08060188 -0.0223861  -0.05794401  0.01550565 -0.05250049 -0.09656191\n",
      " -0.05871546 -0.06652963 -0.11086566 -0.11036118 -0.04533568 -0.05977851\n",
      " -0.06763023 -0.03256923 -0.0280811   0.15978413  0.25556418  0.06028606\n",
      "  0.06690208  0.13370429  0.16675121]\n",
      "\n",
      "The objective value for beta_T = 0.450685543495708\n"
     ]
    }
   ],
   "source": [
    "# Final iterate of fast gradient algorithm\n",
    "beta_T = vals_fg[vals_fg.shape[0]-1]\n",
    "beta_T_obj = obj(beta_T, lamb=0.1)\n",
    "print('beta_T =')\n",
    "print(beta_T)\n",
    "print('\\nThe objective value for beta_T = %.15f' % beta_T_obj)"
   ]
  },
  {
   "cell_type": "markdown",
   "metadata": {},
   "source": [
    "The optimized problem used for the fast gradient algorithm is\n",
    "\n",
    "$${min}_{\\beta} \\space\\frac{1}{n} \\sum _{i=1}^n log(1+exp(-y_i x_i^T \\beta))+\\lambda\\mid\\mid\\beta\\mid\\mid _2^2$$\n",
    "\n",
    "From the documentation (https://scikit-learn.org/stable/modules/linear_model.html#logistic-regression), the optimized cost function of Logistic regression model in `scikit-learn` is\n",
    "\n",
    "$${min}_{\\beta,c} \\space C \\sum _{i=1}^n log(1+exp(-y_i (x_i^T \\beta+c)))+\\frac{1}{2}\\mid\\mid\\beta\\mid\\mid _2^2$$\n",
    "\n",
    "This cost function can be rewritten as\n",
    "\n",
    "$${min}_{\\beta,c} \\space \\frac{1}{n}\\sum _{i=1}^n log(1+exp(-y_i (x_i^T \\beta+c)))+\\frac{1}{2nC}\\mid\\mid\\beta\\mid\\mid _2^2$$\n",
    "\n",
    "Since $c$ is not clearly defined in the documentation, let's temperarily ignore this term. We should have $\\lambda = \\frac{1}{2nC}$ and $C = \\frac{1}{2n\\lambda}$."
   ]
  },
  {
   "cell_type": "code",
   "execution_count": 12,
   "metadata": {},
   "outputs": [
    {
     "name": "stdout",
     "output_type": "stream",
     "text": [
      "The accuracy is 0.9026933101650738\n",
      "\n",
      "beta^* =\n",
      "[ 0.02968783 -0.02224259  0.08670319  0.05880432  0.17535149  0.12131483\n",
      "  0.29478755  0.13218685  0.1225817   0.05083851  0.13938578 -0.03879315\n",
      "  0.05655618  0.03270437  0.10918302  0.19740241  0.1574325   0.11926012\n",
      "  0.11496412  0.12920308  0.23575853  0.10142867  0.25033848  0.15329338\n",
      " -0.14770338 -0.10447379 -0.12076017 -0.03501679 -0.0500754  -0.07533834\n",
      " -0.03265926 -0.01350691 -0.07909541 -0.01605596 -0.05661424 -0.00405975\n",
      " -0.08058    -0.02235341 -0.0579356   0.01549614 -0.05247748 -0.09657944\n",
      " -0.05870072 -0.06654592 -0.11089209 -0.11037679 -0.04530366 -0.05977717\n",
      " -0.06764495 -0.03257748 -0.02808149  0.15979984  0.25563182  0.06030557\n",
      "  0.06695425  0.13366865  0.1667686 ]\n",
      "\n",
      "The objective value for beta^* = 0.450685526296472\n"
     ]
    }
   ],
   "source": [
    "from sklearn.linear_model import LogisticRegression\n",
    "\n",
    "n = x_train.shape[1]\n",
    "lamb = 0.1\n",
    "clf = LogisticRegression(C=1/(2*n*lamb),fit_intercept=False)\n",
    "fit = clf.fit(x_train.T, y_train)\n",
    "score = clf.score(x_test.T, y_test)\n",
    "beta_star = clf.coef_[0]\n",
    "beta_star_obj = obj(beta_star, lamb)\n",
    "print(\"The accuracy is\", score)\n",
    "print('\\nbeta^* =')\n",
    "print(beta_star)\n",
    "print('\\nThe objective value for beta^* = %.15f' % beta_star_obj)"
   ]
  },
  {
   "cell_type": "markdown",
   "metadata": {},
   "source": [
    "$\\beta_T$ and $\\beta^*$ look very similar. The objective value for $\\beta_T$ is 0.450685543495708. The objective value for $\\beta^*$ is 0.450685526296472. They are pretty closed."
   ]
  },
  {
   "cell_type": "markdown",
   "metadata": {},
   "source": [
    "- **Run cross-validation on the training set of the Spam dataset using `scikit-learn` to find the optimal value of $\\lambda$. Run `graddescent` and `fastgradalgo` to optimize the objective with that value of $\\lambda$. Plot the curve of the objective values $F(\\beta _t)$ for both algorithms versus the iteration counter $t$. Plot the misclassification error on the training set for both algorithms versus the iteration counter $t$. Plot the misclassification error on the test set for both algorithms versus the iteration counter $t$. What do you observe?**"
   ]
  },
  {
   "cell_type": "code",
   "execution_count": 13,
   "metadata": {},
   "outputs": [
    {
     "name": "stdout",
     "output_type": "stream",
     "text": [
      "The accuracy is 0.9079061685490878\n",
      "The optimal value of C is 21.54434690031882\n",
      "The optimal value of lambda is 6.72694033856925e-06\n"
     ]
    }
   ],
   "source": [
    "# Find optimal lambda by cross-validation\n",
    "from sklearn.linear_model import LogisticRegressionCV\n",
    "\n",
    "n = x_train.shape[1]\n",
    "clf = LogisticRegressionCV()\n",
    "fit = clf.fit(x_train.T, y_train)\n",
    "score = clf.score(x_test.T, y_test)\n",
    "C = clf.C_[0]\n",
    "lamb_opt = 1/(2*n*C)\n",
    "print(\"The accuracy is\", score)\n",
    "print(\"The optimal value of C is\", C)\n",
    "print(\"The optimal value of lambda is\", lamb_opt)"
   ]
  },
  {
   "cell_type": "code",
   "execution_count": 14,
   "metadata": {},
   "outputs": [
    {
     "name": "stdout",
     "output_type": "stream",
     "text": [
      "Gradient descent: number of iterations = 1001\n",
      "Fast gradient: number of iterations = 1001\n"
     ]
    },
    {
     "data": {
      "image/png": "[encoded data removed]",
      "text/plain": [
       "<Figure size 432x288 with 1 Axes>"
      ]
     },
     "metadata": {
      "needs_background": "light"
     },
     "output_type": "display_data"
    }
   ],
   "source": [
    "vals_gd = graddescent(init=np.zeros([x_train.shape[0],]), lamb=lamb_opt, eps=0.0001)\n",
    "vals_fg = fastgradalgo(init=np.zeros([x_train.shape[0],]), lamb=lamb_opt, eps=0.0001)\n",
    "print(\"Gradient descent: number of iterations =\",vals_gd.shape[0])\n",
    "print(\"Fast gradient: number of iterations =\",vals_fg.shape[0])\n",
    "obj_plot(vals_gd, vals_fg, lamb_opt)"
   ]
  },
  {
   "cell_type": "code",
   "execution_count": 15,
   "metadata": {},
   "outputs": [],
   "source": [
    "def compME(X, Y, vals):\n",
    "    n = vals.shape[0] # number of iterations\n",
    "    err = np.zeros(n)\n",
    "    for i in range(n):\n",
    "        # Sigmoid function\n",
    "        p = 1/(1+np.exp(-X.T.dot(vals[i])))\n",
    "        # Classification with a selected threshold\n",
    "        # Compare and find the number of misclassification\n",
    "        threshold = 0.499\n",
    "        count = list(Y[p>threshold]).count(-1)\n",
    "        count += list(Y[p<=threshold]).count(1)\n",
    "        # Misclassification error = number of misclassification / total number of output\n",
    "        err[i] = count/(Y.shape[0])\n",
    "    return err"
   ]
  },
  {
   "cell_type": "code",
   "execution_count": 16,
   "metadata": {},
   "outputs": [],
   "source": [
    "def ME_plot(vals1, vals2, XTrain=x_train, YTrain=y_train, XTest=x_test, YTest=y_test, both='both'):\n",
    "    # Train\n",
    "    # Gradient Descent\n",
    "    err1 = compME(XTrain, YTrain, vals1)\n",
    "    # Fast Gradient\n",
    "    err2 = compME(XTrain, YTrain, vals2)\n",
    "    \n",
    "    # Test\n",
    "    # Gradient Descent\n",
    "    err3 = compME(XTest, YTest, vals1)\n",
    "    # Fast Gradient\n",
    "    err4 = compME(XTest, YTest, vals2)\n",
    "    \n",
    "    # Plot\n",
    "    if both == 'both':\n",
    "        fig, axs = plt.subplots(nrows=1, ncols=2, sharey=False, figsize=(15,5))\n",
    "        ax = axs[0]\n",
    "        ax.plot(err1, label='Train Data')\n",
    "        ax.plot(err3, label='Test Data')\n",
    "        ax.set_xlabel('Iteration')\n",
    "        ax.set_ylabel('Misclassification Error')\n",
    "        ax.set_title('Gradient Descent')\n",
    "        ax.legend()\n",
    "        ax = axs[1]\n",
    "        ax.plot(err2, label='Train Data')\n",
    "        ax.plot(err4, label='Test Data')\n",
    "        ax.set_xlabel('Iteration')\n",
    "        ax.set_ylabel('Misclassification Error')\n",
    "        ax.set_title('Fast Gradient')\n",
    "        ax.legend()\n",
    "        plt.show()\n",
    "    elif both == 'gd':\n",
    "        plt.figure()\n",
    "        plt.plot(err1, label='Train Data')\n",
    "        plt.plot(err3, label='Test Data')\n",
    "        plt.xlabel('Iteration')\n",
    "        plt.ylabel('Misclassification Error')\n",
    "        plt.title('Gradient Descent', fontsize=15)\n",
    "        plt.legend()\n",
    "        plt.show()\n",
    "    elif both == 'fg':\n",
    "        plt.figure()\n",
    "        plt.plot(err2, label='Train Data')\n",
    "        plt.plot(err4, label='Test Data')\n",
    "        plt.xlabel('Iteration')\n",
    "        plt.ylabel('Misclassification Error')\n",
    "        plt.title('Fast Gradient', fontsize=15)\n",
    "        plt.legend()\n",
    "        plt.show()\n",
    "    return"
   ]
  },
  {
   "cell_type": "code",
   "execution_count": 17,
   "metadata": {},
   "outputs": [
    {
     "data": {
      "image/png": "[encoded data removed]",
      "text/plain": [
       "<Figure size 1080x360 with 2 Axes>"
      ]
     },
     "metadata": {
      "needs_background": "light"
     },
     "output_type": "display_data"
    }
   ],
   "source": [
    "ME_plot(vals_gd, vals_fg)"
   ]
  },
  {
   "cell_type": "markdown",
   "metadata": {},
   "source": [
    "From the above plots, we can observe that the misclassification errors are reduced by iterations. In this case, the errors are reduced approximately from 0.6 to 0.1, which means classification by the coefficients computed becomes more accurate."
   ]
  },
  {
   "cell_type": "markdown",
   "metadata": {},
   "source": [
    "# Exercise 2\n",
    "**Suppose we estimate the regression coefficients in a logistic regression model by minimizing**\n",
    "\n",
    "**$$F(\\beta) := \\frac{1}{n} \\sum _{i=1}^n log(1+exp(-y_i x_i^T \\beta))+\\lambda\\mid\\mid\\beta\\mid\\mid _2^2$$**\n",
    "\n",
    "**for a particular value of $\\lambda$. For parts (a) through (b), indicate which of (i) through (v) is\n",
    "correct. Justify your answer.**\n",
    "\n",
    "**(i) Increase initially, and then eventually start decreasing in an inverted U shape.**\n",
    "\n",
    "**(ii) Decrease initially, and then eventually start increasing in a U shape.**\n",
    "\n",
    "**(iii) Steadily increase.**\n",
    "\n",
    "**(iv) Steadily decrease.**\n",
    "\n",
    "**(v) Remain constant.**\n",
    "\n",
    "### (a)\n",
    "**As we increase $\\lambda$ from 0, the misclassification error on the test set will:**\n",
    "\n",
    "(ii) Decrease initially, and then eventually start increasing in a U shape.\n",
    "\n",
    "Justification:\n",
    "\n",
    "As we increase $\\lambda$ from 0, the shrinkage penalty term is increased and the coefficients $\\beta$ is more constrained towards 0. So the model becomes less flexible which lead the misclassification error on the test set a initial decrease followed with a increase in a U shape.\n",
    "\n",
    "### (b)\n",
    "**Repeat (a) for the misclassification error on the training set.**\n",
    "\n",
    "(iii) Steadily increase.\n",
    "\n",
    "Justification:\n",
    "\n",
    "As we increase $\\lambda$ from 0, the shrinkage penalty term is increased and the coefficients $\\beta$ is more constrained towards 0. Thus, the model becomes less flexible and the misclassification error on the training set is steadily increased."
   ]
  },
  {
   "cell_type": "markdown",
   "metadata": {},
   "source": [
    "# Exercise 3"
   ]
  },
  {
   "cell_type": "markdown",
   "metadata": {},
   "source": [
    "**1. Create a p2.xlarge spot instance with the “Deep Learning AMI (Ubuntu) Version 22.0” AMI. If this instance type doesn’t work, try another one of the gpu instances. You need to use a GPU instance for this assignment.**\n",
    "\n",
    "**2. Install Swig and bufferkdtree on your instance.**\n",
    "\n",
    "**3. On your instance, run the astronomy example from here https://github.com/gieseke/bufferkdtree/tree/master/examples and save all of the output to the file “out- put.txt”.**\n",
    "\n",
    "**Hint: You will need to transfer both astronomy.py and generate.py on EC2. In addition, in the file astronomy.py you will need to change the line `plat_dev_ids = {0:[0 ,1 ,2 ,3]}` to `plat_dev_ids = {0:[0]}`.**\n",
    "\n",
    "**The data will automatically download the first time you run it after user input. Therefore, do not try to save the output to a file via > the first time you run it or else it will hang indefinitely. Either use the tee command (https://en.wikipedia.org/wiki/Tee_(command) ), run the script once before using > or copy and paste the output to a file. If you are still having issues with it hanging when saving directly to a file, check the output file. It’s possible that it finished writing out the output.**\n",
    "\n",
    "**4. Transfer the file output.txt to an S3 bucket.**\n",
    "\n",
    "**5. Go to the S3interface https://console.aws.amazon.com/s3/home?region=us-east-1 and make that file public.**\n",
    "\n",
    "**6. In your homework submission please include the following:**"
   ]
  },
  {
   "cell_type": "markdown",
   "metadata": {},
   "source": [
    "- **The fitting and testing times on both the CPU and GPU versions. You can find these in the output.**\n",
    "\n",
    "GPU\n",
    "\n",
    "- Fitting time: 12.211055\n",
    "\n",
    "- Testing time: 44.217127\n",
    "\n",
    "CPU\n",
    "\n",
    "- Fitting time: 1.080810\n",
    "\n",
    "- Testing time: 973.668295\n",
    "\n",
    "We can see that the testing time spent on GPU is much shorter than the tesing time spent on CPU."
   ]
  },
  {
   "cell_type": "markdown",
   "metadata": {},
   "source": [
    "- **The url from the previous step (Check to make sure you successfully made it public!)**\n",
    "\n",
    "output.txt file link: https://s3-us-west-2.amazonaws.com/data558cathyjia/output.txt"
   ]
  },
  {
   "cell_type": "markdown",
   "metadata": {},
   "source": [
    "- **A statement of any problems you encountered during this exercise and how you overcame them (or if you didn’t).**\n",
    "\n",
    "I was interrupted several times due to network shutdown and I was mainly confused by configuration. Later I carefully read the AWS User Guide about configuring the AWS CLI and figured out how to do it."
   ]
  },
  {
   "cell_type": "markdown",
   "metadata": {},
   "source": [
    "- **How long it took you to complete this exercise (for our reference–we’re not grading you on how long it took).**\n",
    "\n",
    "About 2 hrs 30 mins. Most time spent on reading instructions, setting up and configuration."
   ]
  },
  {
   "cell_type": "markdown",
   "metadata": {},
   "source": [
    "# Exercise 4\n",
    "**Read the announcement “Data Competition, Part 1” released on Canvas. We strongly recommend you perform this task on AWS. You will use your own $l_2^2$-regularized logistic regression for this exercise. After completing this exercise, submit your predictions to the data competition Kaggle website.**"
   ]
  },
  {
   "cell_type": "markdown",
   "metadata": {},
   "source": [
    "- **Download the data for the Kaggle competition. Run the script `extract_features.py` to extract features from the images. This script was written in Python 3 and depends on the library PyTorch.**\n",
    "\n",
    "    `import extract_features`"
   ]
  },
  {
   "cell_type": "markdown",
   "metadata": {},
   "source": [
    "- **Pick two classes of your choice from the dataset. Train an $l_2^2$-regularized logistic regression classifier on the training set using your own fast gradient algorithm with $\\lambda = 1$. Be sure to use the features you generated above rather than the raw image features. Plot, with different colors, the misclassification error on the training set and on the validation set vs iterations.**"
   ]
  },
  {
   "cell_type": "markdown",
   "metadata": {},
   "source": [
    "Labels ranges from 0 to 9 (10 classes in total). For this time, let's choose class 0 and class 1. The labeled output should be adjusted to +/- 1. Class 0 is -1. Class 1 is +1."
   ]
  },
  {
   "cell_type": "code",
   "execution_count": 18,
   "metadata": {},
   "outputs": [
    {
     "name": "stdout",
     "output_type": "stream",
     "text": [
      "Number of images: 5000\n",
      "Dimension of features: 4096\n"
     ]
    }
   ],
   "source": [
    "# Load data\n",
    "x_train = np.load('train_features.npy')\n",
    "y_train = np.load('train_labels.npy')\n",
    "x_test = np.load('val_features.npy')\n",
    "y_test = np.load('val_labels.npy')\n",
    "x_predict = np.load('test_features.npy')\n",
    "\n",
    "# Standardize data\n",
    "# Change label to +/- 1\n",
    "x_train = preprocessing.scale(x_train).T\n",
    "x_test = preprocessing.scale(x_test).T\n",
    "x_predict = preprocessing.scale(x_predict).T\n",
    "y_train = y_train.T\n",
    "y_train[y_train!=1] = -1\n",
    "y_test = y_test.T\n",
    "y_test[y_test!=1] = -1\n",
    "y_predict = np.ones([x_predict.shape[1],])\n",
    "\n",
    "print('Number of images:', x_train.shape[1])\n",
    "print('Dimension of features:', x_train.shape[0])"
   ]
  },
  {
   "cell_type": "code",
   "execution_count": 19,
   "metadata": {},
   "outputs": [],
   "source": [
    "# Define functions\n",
    "def computegrad(beta, lamb, X=x_train, Y=y_train):\n",
    "    n = X.shape[1]\n",
    "    p = np.exp(np.multiply(-Y.T,X.T.dot(beta)))/(1+np.exp(np.multiply(-Y.T,X.T.dot(beta))))\n",
    "    p = np.diag(p)\n",
    "    return -1/n*X.dot(p).dot(Y)+2*lamb*beta\n",
    "\n",
    "def obj(beta, lamb, X=x_train, Y=y_train):\n",
    "    n = X.shape[1]\n",
    "    return 1/n*np.sum(np.log(1+np.exp(np.multiply(-Y.T,X.T.dot(beta))))) + lamb*np.linalg.norm(beta)**2\n",
    "\n",
    "def backtracking(beta, grad, init_eta, lamb, max_itr=10):\n",
    "    norm_grad = np.linalg.norm(grad)\n",
    "    eta = init_eta\n",
    "    itr = 0\n",
    "    while itr < max_itr:     \n",
    "        if obj(beta-eta*grad, lamb) <= (obj(beta, lamb)-0.5*eta*norm_grad**2):\n",
    "            break\n",
    "        else:\n",
    "            eta = 0.8 * eta\n",
    "        itr += 1\n",
    "    return eta\n",
    "\n",
    "def initEta(lamb, X=x_train):\n",
    "    n = X.shape[1]\n",
    "    return 1/(max(np.linalg.eigvals(1/n*X.dot(X.T)))+lamb)\n",
    "\n",
    "def graddescent(init, lamb, eps, X=x_train, Y=y_train, max_iter=1000):\n",
    "    beta = init\n",
    "    # initial step-size value\n",
    "    eta = initEta(lamb)\n",
    "    grad = computegrad(beta, lamb)\n",
    "    vals = [beta]\n",
    "    t = 0\n",
    "    # The stopping criterion is norm(grad) <= eps\n",
    "    while (np.linalg.norm(grad) > eps and t < max_iter):\n",
    "        eta = backtracking(beta, grad, eta, lamb)\n",
    "        beta = beta - eta * grad\n",
    "        vals.append(beta) # save beta\n",
    "        grad = computegrad(beta, lamb)\n",
    "        t += 1\n",
    "    return np.array(vals)\n",
    "\n",
    "def fastgradalgo(init, lamb, eps, X=x_train, Y=y_train, max_iter=1000):\n",
    "    beta = init\n",
    "    theta = init\n",
    "    # initial step-size value\n",
    "    eta = initEta(lamb)\n",
    "    grad = computegrad(theta, lamb)\n",
    "    vals = [beta]\n",
    "    t = 0\n",
    "    # The stopping criterion is norm(grad) <= eps\n",
    "    while (np.linalg.norm(grad) > eps and t < max_iter):\n",
    "        eta = backtracking(beta, grad, eta, lamb)\n",
    "        temp = beta\n",
    "        beta = theta - eta * grad\n",
    "        theta = beta + t/(t+3)*(beta-temp)\n",
    "        vals.append(beta)\n",
    "        grad = computegrad(theta, lamb)\n",
    "        t += 1\n",
    "    return np.array(vals)"
   ]
  },
  {
   "cell_type": "code",
   "execution_count": 20,
   "metadata": {
    "scrolled": true
   },
   "outputs": [
    {
     "data": {
      "image/png": "[encoded data removed]",
      "text/plain": [
       "<Figure size 432x288 with 1 Axes>"
      ]
     },
     "metadata": {
      "needs_background": "light"
     },
     "output_type": "display_data"
    }
   ],
   "source": [
    "# Run fast gradient algorithm\n",
    "vals_fg = fastgradalgo(init=np.zeros([x_train.shape[0],]), lamb=1, eps=0.0001)\n",
    "\n",
    "# Plot misclassification error\n",
    "ME_plot(vals_fg, vals_fg, XTrain=x_train, YTrain=y_train, XTest=x_test, YTest=y_test, both='fg')"
   ]
  },
  {
   "cell_type": "markdown",
   "metadata": {},
   "source": [
    "- **Find the value of the regularization parameter $\\lambda$ using cross-validation; you may use scikit-learn’s built-in functions for this purpose. Train an $l_2^2$-regularized logistic regression classifier on the training set using your own fast gradient algorithm with that value of $\\lambda$ found by cross-validation. Plot, with different colors, the misclassification error on the training set and on the validation set vs iterations.**"
   ]
  },
  {
   "cell_type": "code",
   "execution_count": 21,
   "metadata": {},
   "outputs": [
    {
     "name": "stdout",
     "output_type": "stream",
     "text": [
      "The accuracy is 0.944\n",
      "The optimal value of C is 0.000774263682681127\n",
      "The optimal value of lambda is 0.1291549665014884\n"
     ]
    }
   ],
   "source": [
    "# Find optimal lambda by cross-validation\n",
    "from sklearn.linear_model import LogisticRegressionCV\n",
    "\n",
    "n = x_train.shape[1]\n",
    "clf = LogisticRegressionCV()\n",
    "fit = clf.fit(x_train.T, y_train)\n",
    "# compute the accuracy on the test set\n",
    "score = clf.score(x_test.T,y_test)\n",
    "C = clf.C_[0]\n",
    "lamb_opt = 1/(2*n*C)\n",
    "print(\"The accuracy is\", score)\n",
    "print(\"The optimal value of C is\", C)\n",
    "print(\"The optimal value of lambda is\", lamb_opt)"
   ]
  },
  {
   "cell_type": "code",
   "execution_count": 22,
   "metadata": {},
   "outputs": [
    {
     "data": {
      "image/png": "[encoded data removed]",
      "text/plain": [
       "<Figure size 432x288 with 1 Axes>"
      ]
     },
     "metadata": {
      "needs_background": "light"
     },
     "output_type": "display_data"
    }
   ],
   "source": [
    "# Train on the training set\n",
    "vals_fg = fastgradalgo(init=np.zeros([x_train.shape[0],]), lamb=lamb_opt, eps=0.0001)\n",
    "\n",
    "# Plot misclassification error\n",
    "ME_plot(vals_fg, vals_fg, XTrain=x_train, YTrain=y_train, XTest=x_test, YTest=y_test, both='fg')"
   ]
  },
  {
   "cell_type": "code",
   "execution_count": 26,
   "metadata": {},
   "outputs": [
    {
     "name": "stdout",
     "output_type": "stream",
     "text": [
      "Accuracy: 0.176\n"
     ]
    }
   ],
   "source": [
    "# Find beta_T\n",
    "beta_T = vals_fg[vals_fg.shape[0]-1]\n",
    "\n",
    "# Validation\n",
    "y_val = np.ones([x_test.shape[1],])\n",
    "p = 1/(1+np.exp(-x_test.T.dot(beta_T)))\n",
    "y_val[p<=0.7] = 0 # adjust threshold for classification\n",
    "y_val = y_val.astype(int)\n",
    "y_test = np.load('val_labels.npy').T\n",
    "score = list(y_val==y_test).count(True)/len(y_val)\n",
    "print(\"Accuracy:\", score)"
   ]
  },
  {
   "cell_type": "code",
   "execution_count": 28,
   "metadata": {},
   "outputs": [],
   "source": [
    "# Prediction\n",
    "y_predict = np.ones([x_predict.shape[1],])\n",
    "p = 1/(1+np.exp(-x_predict.T.dot(beta_T)))\n",
    "y_predict[p<=0.7] = 0\n",
    "y_predict = y_predict.astype(int)\n",
    "# Write into csv file\n",
    "df = pd.read_csv('sample_submission.csv')\n",
    "df['Category'] = y_predict\n",
    "df.to_csv('submission.csv',index=False)"
   ]
  },
  {
   "cell_type": "markdown",
   "metadata": {},
   "source": [
    "# Exercise 5\n",
    "**It is well-known that ridge regression tends to give similar coefficient values to correlated variables, whereas the lasso may give quite different coefficient values to correlated variables. We will now explore this property in a very simple setting.**\n",
    "\n",
    "**Suppose that $n = 2, p = 2, x_{11} = x_{12}, x_{21} = x_{22}$. Furthermore, suppose that $y_1 + y_2 = 0$ and $x_{11} + x_{21} = 0$ and $x_{12} + x_{22} = 0$, so that the estimate for the intercept in a least squares, ridge regression, or lasso model is zero: $\\hat{\\beta}_0 = 0$.**\n",
    "\n",
    "### (a)\n",
    "**Write out the ridge regression optimization problem in this setting.**\n",
    "\n",
    "The optimization problem for ridge regression is\n",
    "\n",
    "$$Min \\sum_{i=1}^n (y-\\hat{\\beta}_0 - \\sum _{j=1}^p \\hat{\\beta}_j x_j)^2 + \\lambda\\sum _{j=1}^p \\hat{\\beta}_j^2$$\n",
    "\n",
    "Since $n = 2, p = 2, \\hat{\\beta}_0 = 0$, then we can rewrite the optimization problem as $Min(F)$ where\n",
    "\n",
    "$$F = \\sum_{i=1}^2 (y-\\hat{\\beta}_0 - \\sum _{j=1}^2 \\hat{\\beta}_j x_j)^2 + \\lambda\\sum _{j=1}^2 \\hat{\\beta}_j^2$$\n",
    "\n",
    "$$= (y_1-\\hat{\\beta}_1 x_{11} - \\hat{\\beta}_2 x_{12})^2 + (y_2-\\hat{\\beta}_1 x_{21} - \\hat{\\beta}_2 x_{22})^2 + \\lambda(\\hat{\\beta}_1^2 + \\hat{\\beta}_2^2)$$\n",
    "\n",
    "Since $x_{11} = x_{12}, x_{21} = x_{22}$, then define $x_{11} = x_{12} = x_1, x_{21} = x_{22} = x_2$.\n",
    "\n",
    "So the ridge regression optimization problem in this setting is\n",
    "\n",
    "$$F = (y_1-\\hat{\\beta}_1 x_1 - \\hat{\\beta}_2 x_1)^2 + (y_2-\\hat{\\beta}_1 x_2 - \\hat{\\beta}_2 x_2)^2 + \\lambda\\hat{\\beta}_1^2 + \\lambda\\hat{\\beta}_2^2$$\n",
    "\n",
    "### (b)\n",
    "**Argue that in this setting, the ridge coefficient estimates satisfy $\\hat{\\beta}_1 = \\hat{\\beta}_2$.**\n",
    "\n",
    "Since $\\hat{\\beta}_1$ and $\\hat{\\beta}_2$ should be minimize $F$, then we must have $\\frac{\\delta F}{\\delta\\hat{\\beta}_1} = 0$ and $\\frac{\\delta F}{\\delta\\hat{\\beta}_2} = 0$.\n",
    "\n",
    "$$\\frac{\\delta F}{\\delta\\hat{\\beta}_1} = 2(y_1-x_1\\hat{\\beta}_1 - x_1\\hat{\\beta}_2)(-x_1) + 2(y_2-x_2\\hat{\\beta}_1 - x_2\\hat{\\beta}_2)(-x_2) + 2\\lambda\\hat{\\beta}_1$$\n",
    "\n",
    "$$= -2x_1y_1 + 2x_1^2\\hat{\\beta}_1 + 2x_1^2\\hat{\\beta}_2 -2x_2y_2 + 2x_2^2\\hat{\\beta}_1 + 2x_2^2\\hat{\\beta}_2 +  2\\lambda\\hat{\\beta}_1$$\n",
    "\n",
    "$$= -2x_1y_1 - 2x_2y_2 + (2x_1^2 + 2x_2^2 + 2\\lambda)\\hat{\\beta}_1+ (2x_1^2 + 2x_2^2)\\hat{\\beta}_2$$\n",
    "\n",
    "$$= 0$$\n",
    "\n",
    "Similarly, we have\n",
    "\n",
    "$$\\frac{\\delta F}{\\delta\\hat{\\beta}_2} = 2(y_1-x_1\\hat{\\beta}_1 - x_1\\hat{\\beta}_2)(-x_1) + 2(y_2-x_2\\hat{\\beta}_1 - x_2\\hat{\\beta}_2)(-x_2) + 2\\lambda\\hat{\\beta}_2$$\n",
    "\n",
    "$$= -2x_1y_1 + 2x_1^2\\hat{\\beta}_1 + 2x_1^2\\hat{\\beta}_2 -2x_2y_2 + 2x_2^2\\hat{\\beta}_1 + 2x_2^2\\hat{\\beta}_2 +  2\\lambda\\hat{\\beta}_2$$\n",
    "\n",
    "$$= -2x_1y_1 - 2x_2y_2 + (2x_1^2 + 2x_2^2 + 2\\lambda)\\hat{\\beta}_2+ (2x_1^2 + 2x_2^2)\\hat{\\beta}_1$$\n",
    "\n",
    "$$= 0$$\n",
    "\n",
    "Thus, we have\n",
    "\n",
    "$$(x_1^2 + x_2^2 + \\lambda)\\hat{\\beta}_1+ (x_1^2 + x_2^2)\\hat{\\beta}_2 = x_1y_1 + x_2y_2\\space\\space\\space (1)$$\n",
    "\n",
    "and \n",
    "\n",
    "$$(x_1^2 + x_2^2 + \\lambda)\\hat{\\beta}_2+ (x_1^2 + x_2^2)\\hat{\\beta}_1 = x_1y_1 + x_2y_2\\space\\space\\space (2)$$\n",
    "\n",
    "By $(1)-(2)$, we get\n",
    "\n",
    "$$(x_1^2 + x_2^2 + \\lambda - x_1^2 - x_2^2)\\hat{\\beta}_1 + (x_1^2 + x_2^2 - x_1^2 - x_2^2 - \\lambda)\\hat{\\beta}_2 = 0$$\n",
    "\n",
    "$$\\lambda\\hat{\\beta}_1 - \\lambda\\hat{\\beta}_2 = 0$$\n",
    "\n",
    "$$\\lambda\\hat{\\beta}_1 = \\lambda\\hat{\\beta}_2$$\n",
    "\n",
    "$$\\hat{\\beta}_1 = \\hat{\\beta}_2$$\n",
    "\n",
    "Therefore, the ridge coefficient estimates satisfy $\\hat{\\beta}_1 = \\hat{\\beta}_2$."
   ]
  }
 ],
 "metadata": {
  "kernelspec": {
   "display_name": "Python 3",
   "language": "python",
   "name": "python3"
  },
  "language_info": {
   "codemirror_mode": {
    "name": "ipython",
    "version": 3
   },
   "file_extension": ".py",
   "mimetype": "text/x-python",
   "name": "python",
   "nbconvert_exporter": "python",
   "pygments_lexer": "ipython3",
   "version": "3.6.8"
  }
 },
 "nbformat": 4,
 "nbformat_minor": 2
}
